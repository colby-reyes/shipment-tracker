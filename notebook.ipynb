{
 "cells": [
  {
   "cell_type": "markdown",
   "source": "# Shipment Tracking \nA Pipeline & Dashboard to track shipments sent through multiple vendors <hr>\n\nKey Project Elements:\n- Deepnote Dashboard elements for intaking data from *end user*\n- API interaction and (probably) web scraping to fetch shipment status from vendor site \n- `pydantic` for data validation of shipment information\n- read and write to `.csv` for data permanence\n    - afterward may include `Great Expectations` to track data quality",
   "metadata": {
    "tags": [],
    "cell_id": "00000-85c6538f-6aaa-427b-9eda-29fdacf56457",
    "deepnote_cell_type": "markdown",
    "deepnote_cell_height": 323.796875
   }
  },
  {
   "cell_type": "markdown",
   "source": "## Setup",
   "metadata": {
    "formattedRanges": [],
    "is_collapsed": false,
    "cell_id": "f083506dabeb469ab24d4f8871b107de",
    "tags": [],
    "deepnote_cell_type": "text-cell-h2"
   }
  },
  {
   "cell_type": "markdown",
   "source": "### Resources\n- [Python API Tutorial](https://www.dataquest.io/blog/python-api-tutorial/)\n- [`BeautifulSoup4` Documentation](https://pypi.org/project/beautifulsoup4/)\n    - [Tutorial](https://realpython.com/beautiful-soup-web-scraper-python/) on getting started with `bs4`\n- [How to](https://pandas.pydata.org/docs/reference/api/pandas.DataFrame.append.html) append rows to a `pandas` dataframe\n- [`Pydantic` Documentation](https://pydantic-docs.helpmanual.io/)\n- [`Great Expectations` tutorial](https://towardsdatascience.com/monitoring-data-quality-in-a-data-lake-using-great-expectations-and-allure-built-serverless-47fa1791af6a)",
   "metadata": {
    "cell_id": "237e3b1f0d23459c831ec978ac191b4f",
    "tags": [],
    "deepnote_cell_type": "markdown",
    "deepnote_cell_height": 252.390625
   }
  },
  {
   "cell_type": "markdown",
   "source": "### Import statements",
   "metadata": {
    "tags": [],
    "cell_id": "00002-409d4826-9fc0-469a-961d-2ed83bc0a7c7",
    "deepnote_cell_type": "markdown",
    "deepnote_cell_height": 62
   }
  },
  {
   "cell_type": "code",
   "metadata": {
    "tags": [],
    "cell_id": "00000-e170fae0-7e06-4a7a-85f3-343584ec4b94",
    "deepnote_to_be_reexecuted": false,
    "source_hash": "981af1a5",
    "execution_start": 1659916172126,
    "execution_millis": 281,
    "deepnote_app_coordinates": {
     "x": 0,
     "y": 6,
     "w": 12,
     "h": 5
    },
    "deepnote_cell_type": "code",
    "deepnote_cell_height": 287.796875
   },
   "source": "import pandas as pd\nimport numpy as np\nfrom bs4 import BeautifulSoup as bs4\nimport json\nimport requests as re\nimport datetime as dt\nimport pydantic\nfrom typing import Optional\nimport warnings\nwarnings.filterwarnings(\"ignore\", category=DeprecationWarning)\nprint(\"All packages imported successfully\")",
   "execution_count": null,
   "outputs": [
    {
     "name": "stdout",
     "text": "All packages imported successfully\n",
     "output_type": "stream"
    }
   ]
  },
  {
   "cell_type": "markdown",
   "source": "### Initialize Data\nimport original data from `.csv`",
   "metadata": {
    "cell_id": "9a364be33ce64429ba6ff47bd977c36b",
    "tags": [],
    "deepnote_cell_type": "markdown",
    "deepnote_cell_height": 100.390625
   }
  },
  {
   "cell_type": "code",
   "metadata": {
    "cell_id": "7a1d776c5f734ee2b1a39f6871d4f8fe",
    "tags": [],
    "deepnote_to_be_reexecuted": false,
    "source_hash": "ba984be9",
    "execution_start": 1659905334361,
    "execution_millis": 4,
    "deepnote_cell_type": "code",
    "deepnote_cell_height": 125.796875
   },
   "source": "x = dt.date(2022, 8, 1)\nprint(x)",
   "execution_count": null,
   "outputs": [
    {
     "name": "stdout",
     "text": "2022-08-01\n",
     "output_type": "stream"
    }
   ]
  },
  {
   "cell_type": "code",
   "metadata": {
    "tags": [],
    "cell_id": "00007-f83d8057-e00a-4808-a961-c914bf434185",
    "deepnote_to_be_reexecuted": false,
    "source_hash": "48ed323f",
    "execution_start": 1659915233347,
    "execution_millis": 70,
    "allow_embed": true,
    "owner_user_id": "a91131d5-3a8f-4ab6-899b-8a84e0fa5269",
    "deepnote_table_state": {
     "pageSize": 10,
     "pageIndex": 1,
     "filters": [],
     "sortBy": []
    },
    "deepnote_table_loading": false,
    "deepnote_cell_type": "code",
    "deepnote_cell_height": 832,
    "deepnote_output_heights": [
     290
    ]
   },
   "source": "date_cols:list = ['Shipment Date', 'ETA', 'Delivery Date']\nnew_date_cols:list = ['shipped_date', 'eta_date', 'delivered_date']\n\ndef autoconvert_datetime(value):\n    formats = ['%m/%d/%Y','%m/%d/%y', '%m-%d-%y', '%d-%B', '%d %B']  # formats to try\n    result_format = '%Y-%m-%d'  # output format\n    exception_ct = 0\n    for dt_format in formats:\n        try:\n            dt_obj = dt.datetime.strptime(value, dt_format)\n            return dt_obj.strftime(result_format)\n        except Exception as e:  # throws exception when format doesn't match\n            exception_ct += 1\n            pass\n    #print(f\"Total number of exceptions: {exception_ct}\")\n    return value  # let it be if it doesn't match\n\n\nshipments = (pd.read_csv('./Data/Freight_Tracking.csv')\n                .drop(columns=['Unnamed: 14', 'Unnamed: 15', 'Unnamed: 16'])\n                .fillna(\"Not Entered\")\n                .replace(\"ASAP\",\"Not Entered\")\n            )\nfor c in date_cols:\n    shipments[c] = shipments[c].apply(autoconvert_datetime)\nshipments.isnull().sum()",
   "execution_count": null,
   "outputs": [
    {
     "output_type": "execute_result",
     "execution_count": 186,
     "data": {
      "text/plain": "SO#                       0\nPO#                       0\nCustomer                  0\nDestination / Zip Code    0\nShipment Date             0\nCarrier                   0\nPRO# Wass                 0\nPRO#                      0\nBroker Quote              0\nInvoice amount            0\nETA                       0\nDelivery Date             0\nTransit Time              0\nStatus                    0\ndtype: int64"
     },
     "metadata": {}
    }
   ]
  },
  {
   "cell_type": "code",
   "metadata": {
    "cell_id": "1d30f5fe05524f4c90a0f4c32944010a",
    "tags": [],
    "deepnote_to_be_reexecuted": false,
    "source_hash": "b249a3ee",
    "execution_start": 1659915242209,
    "execution_millis": 807,
    "deepnote_cell_type": "code",
    "deepnote_cell_height": 390
   },
   "source": "shipments.sample(5)",
   "execution_count": null,
   "outputs": [
    {
     "output_type": "execute_result",
     "execution_count": 187,
     "data": {
      "application/vnd.deepnote.dataframe.v3+json": {
       "column_count": 14,
       "row_count": 5,
       "columns": [
        {
         "name": "SO#",
         "dtype": "object",
         "stats": {
          "unique_count": 5,
          "nan_count": 0,
          "categories": [
           {
            "name": "75157",
            "count": 1
           },
           {
            "name": "76385",
            "count": 1
           },
           {
            "name": "3 others",
            "count": 3
           }
          ]
         }
        },
        {
         "name": "PO#",
         "dtype": "object",
         "stats": {
          "unique_count": 5,
          "nan_count": 0,
          "categories": [
           {
            "name": "579631",
            "count": 1
           },
           {
            "name": "839178",
            "count": 1
           },
           {
            "name": "3 others",
            "count": 3
           }
          ]
         }
        },
        {
         "name": "Customer",
         "dtype": "object",
         "stats": {
          "unique_count": 2,
          "nan_count": 0,
          "categories": [
           {
            "name": "Bunzl",
            "count": 4
           },
           {
            "name": "Mallory",
            "count": 1
           }
          ]
         }
        },
        {
         "name": "Destination / Zip Code",
         "dtype": "object",
         "stats": {
          "unique_count": 5,
          "nan_count": 0,
          "categories": [
           {
            "name": "OH, 45014",
            "count": 1
           },
           {
            "name": "Tx, 75234",
            "count": 1
           },
           {
            "name": "3 others",
            "count": 3
           }
          ]
         }
        },
        {
         "name": "Shipment Date",
         "dtype": "object",
         "stats": {
          "unique_count": 5,
          "nan_count": 0,
          "categories": [
           {
            "name": "2021-09-02",
            "count": 1
           },
           {
            "name": "2022-02-25",
            "count": 1
           },
           {
            "name": "3 others",
            "count": 3
           }
          ]
         }
        },
        {
         "name": "Carrier",
         "dtype": "object",
         "stats": {
          "unique_count": 4,
          "nan_count": 0,
          "categories": [
           {
            "name": "SAIA",
            "count": 2
           },
           {
            "name": "Conway",
            "count": 1
           },
           {
            "name": "2 others",
            "count": 2
           }
          ]
         }
        },
        {
         "name": "PRO# Wass",
         "dtype": "object",
         "stats": {
          "unique_count": 1,
          "nan_count": 0,
          "categories": [
           {
            "name": "Not Entered",
            "count": 5
           }
          ]
         }
        },
        {
         "name": "PRO#",
         "dtype": "object",
         "stats": {
          "unique_count": 5,
          "nan_count": 0,
          "categories": [
           {
            "name": "815-635015",
            "count": 1
           },
           {
            "name": "106126722302",
            "count": 1
           },
           {
            "name": "3 others",
            "count": 3
           }
          ]
         }
        },
        {
         "name": "Broker Quote",
         "dtype": "object",
         "stats": {
          "unique_count": 1,
          "nan_count": 0,
          "categories": [
           {
            "name": "Not Entered",
            "count": 5
           }
          ]
         }
        },
        {
         "name": "Invoice amount",
         "dtype": "object",
         "stats": {
          "unique_count": 1,
          "nan_count": 0,
          "categories": [
           {
            "name": "Not Entered",
            "count": 5
           }
          ]
         }
        },
        {
         "name": "ETA",
         "dtype": "object",
         "stats": {
          "unique_count": 5,
          "nan_count": 0,
          "categories": [
           {
            "name": "2021-09-13",
            "count": 1
           },
           {
            "name": "2022-03-09",
            "count": 1
           },
           {
            "name": "3 others",
            "count": 3
           }
          ]
         }
        },
        {
         "name": "Delivery Date",
         "dtype": "object",
         "stats": {
          "unique_count": 5,
          "nan_count": 0,
          "categories": [
           {
            "name": "2021-09-10",
            "count": 1
           },
           {
            "name": "2022-03-04",
            "count": 1
           },
           {
            "name": "3 others",
            "count": 3
           }
          ]
         }
        },
        {
         "name": "Transit Time",
         "dtype": "object",
         "stats": {
          "unique_count": 4,
          "nan_count": 0,
          "categories": [
           {
            "name": "8",
            "count": 2
           },
           {
            "name": "7",
            "count": 1
           },
           {
            "name": "2 others",
            "count": 2
           }
          ]
         }
        },
        {
         "name": "Status",
         "dtype": "object",
         "stats": {
          "unique_count": 2,
          "nan_count": 0,
          "categories": [
           {
            "name": "Delivered",
            "count": 3
           },
           {
            "name": "Delivered ",
            "count": 2
           }
          ]
         }
        },
        {
         "name": "_deepnote_index_column",
         "dtype": "int64"
        }
       ],
       "rows": [
        {
         "SO#": "75157",
         "PO#": "579631",
         "Customer": "Bunzl",
         "Destination / Zip Code": "OH, 45014",
         "Shipment Date": "2021-09-02",
         "Carrier": "Conway",
         "PRO# Wass": "Not Entered",
         "PRO#": "815-635015",
         "Broker Quote": "Not Entered",
         "Invoice amount": "Not Entered",
         "ETA": "2021-09-13",
         "Delivery Date": "2021-09-10",
         "Transit Time": "8",
         "Status": "Delivered",
         "_deepnote_index_column": 61
        },
        {
         "SO#": "76385",
         "PO#": "839178",
         "Customer": "Bunzl",
         "Destination / Zip Code": "Tx, 75234",
         "Shipment Date": "2022-02-25",
         "Carrier": "SAIA",
         "PRO# Wass": "Not Entered",
         "PRO#": "106126722302",
         "Broker Quote": "Not Entered",
         "Invoice amount": "Not Entered",
         "ETA": "2022-03-09",
         "Delivery Date": "2022-03-04",
         "Transit Time": "7",
         "Status": "Delivered ",
         "_deepnote_index_column": 153
        },
        {
         "SO#": "75706",
         "PO#": "612708",
         "Customer": "Bunzl",
         "Destination / Zip Code": "Ms, 38671",
         "Shipment Date": "2021-11-22",
         "Carrier": "YRC",
         "PRO# Wass": "Not Entered",
         "PRO#": "602-158687-x",
         "Broker Quote": "Not Entered",
         "Invoice amount": "Not Entered",
         "ETA": "2021-11-30",
         "Delivery Date": "2021-12-03",
         "Transit Time": "11",
         "Status": "Delivered ",
         "_deepnote_index_column": 101
        },
        {
         "SO#": "75102",
         "PO#": "821419",
         "Customer": "Bunzl",
         "Destination / Zip Code": "TX, 75234",
         "Shipment Date": "2021-08-30",
         "Carrier": "SAIA",
         "PRO# Wass": "Not Entered",
         "PRO#": "105370012805",
         "Broker Quote": "Not Entered",
         "Invoice amount": "Not Entered",
         "ETA": "2021-09-06",
         "Delivery Date": "2021-09-08",
         "Transit Time": "9",
         "Status": "Delivered",
         "_deepnote_index_column": 59
        },
        {
         "SO#": "75999",
         "PO#": "5589178-100",
         "Customer": "Mallory",
         "Destination / Zip Code": "CA, 94539",
         "Shipment Date": "2022-01-20",
         "Carrier": "Hercules",
         "PRO# Wass": "Not Entered",
         "PRO#": "67796579",
         "Broker Quote": "Not Entered",
         "Invoice amount": "Not Entered",
         "ETA": "2022-01-21",
         "Delivery Date": "2022-01-28",
         "Transit Time": "8",
         "Status": "Delivered",
         "_deepnote_index_column": 125
        }
       ]
      },
      "text/plain": "       SO#          PO# Customer Destination / Zip Code Shipment Date  \\\n61   75157       579631    Bunzl              OH, 45014    2021-09-02   \n153  76385       839178    Bunzl              Tx, 75234    2022-02-25   \n101  75706       612708    Bunzl              Ms, 38671    2021-11-22   \n59   75102       821419    Bunzl              TX, 75234    2021-08-30   \n125  75999  5589178-100  Mallory              CA, 94539    2022-01-20   \n\n      Carrier    PRO# Wass          PRO# Broker Quote Invoice amount  \\\n61     Conway  Not Entered    815-635015  Not Entered    Not Entered   \n153      SAIA  Not Entered  106126722302  Not Entered    Not Entered   \n101       YRC  Not Entered  602-158687-x  Not Entered    Not Entered   \n59       SAIA  Not Entered  105370012805  Not Entered    Not Entered   \n125  Hercules  Not Entered      67796579  Not Entered    Not Entered   \n\n            ETA Delivery Date Transit Time      Status  \n61   2021-09-13    2021-09-10            8   Delivered  \n153  2022-03-09    2022-03-04            7  Delivered   \n101  2021-11-30    2021-12-03           11  Delivered   \n59   2021-09-06    2021-09-08            9   Delivered  \n125  2022-01-21    2022-01-28            8   Delivered  ",
      "text/html": "<div>\n<style scoped>\n    .dataframe tbody tr th:only-of-type {\n        vertical-align: middle;\n    }\n\n    .dataframe tbody tr th {\n        vertical-align: top;\n    }\n\n    .dataframe thead th {\n        text-align: right;\n    }\n</style>\n<table border=\"1\" class=\"dataframe\">\n  <thead>\n    <tr style=\"text-align: right;\">\n      <th></th>\n      <th>SO#</th>\n      <th>PO#</th>\n      <th>Customer</th>\n      <th>Destination / Zip Code</th>\n      <th>Shipment Date</th>\n      <th>Carrier</th>\n      <th>PRO# Wass</th>\n      <th>PRO#</th>\n      <th>Broker Quote</th>\n      <th>Invoice amount</th>\n      <th>ETA</th>\n      <th>Delivery Date</th>\n      <th>Transit Time</th>\n      <th>Status</th>\n    </tr>\n  </thead>\n  <tbody>\n    <tr>\n      <th>61</th>\n      <td>75157</td>\n      <td>579631</td>\n      <td>Bunzl</td>\n      <td>OH, 45014</td>\n      <td>2021-09-02</td>\n      <td>Conway</td>\n      <td>Not Entered</td>\n      <td>815-635015</td>\n      <td>Not Entered</td>\n      <td>Not Entered</td>\n      <td>2021-09-13</td>\n      <td>2021-09-10</td>\n      <td>8</td>\n      <td>Delivered</td>\n    </tr>\n    <tr>\n      <th>153</th>\n      <td>76385</td>\n      <td>839178</td>\n      <td>Bunzl</td>\n      <td>Tx, 75234</td>\n      <td>2022-02-25</td>\n      <td>SAIA</td>\n      <td>Not Entered</td>\n      <td>106126722302</td>\n      <td>Not Entered</td>\n      <td>Not Entered</td>\n      <td>2022-03-09</td>\n      <td>2022-03-04</td>\n      <td>7</td>\n      <td>Delivered</td>\n    </tr>\n    <tr>\n      <th>101</th>\n      <td>75706</td>\n      <td>612708</td>\n      <td>Bunzl</td>\n      <td>Ms, 38671</td>\n      <td>2021-11-22</td>\n      <td>YRC</td>\n      <td>Not Entered</td>\n      <td>602-158687-x</td>\n      <td>Not Entered</td>\n      <td>Not Entered</td>\n      <td>2021-11-30</td>\n      <td>2021-12-03</td>\n      <td>11</td>\n      <td>Delivered</td>\n    </tr>\n    <tr>\n      <th>59</th>\n      <td>75102</td>\n      <td>821419</td>\n      <td>Bunzl</td>\n      <td>TX, 75234</td>\n      <td>2021-08-30</td>\n      <td>SAIA</td>\n      <td>Not Entered</td>\n      <td>105370012805</td>\n      <td>Not Entered</td>\n      <td>Not Entered</td>\n      <td>2021-09-06</td>\n      <td>2021-09-08</td>\n      <td>9</td>\n      <td>Delivered</td>\n    </tr>\n    <tr>\n      <th>125</th>\n      <td>75999</td>\n      <td>5589178-100</td>\n      <td>Mallory</td>\n      <td>CA, 94539</td>\n      <td>2022-01-20</td>\n      <td>Hercules</td>\n      <td>Not Entered</td>\n      <td>67796579</td>\n      <td>Not Entered</td>\n      <td>Not Entered</td>\n      <td>2022-01-21</td>\n      <td>2022-01-28</td>\n      <td>8</td>\n      <td>Delivered</td>\n    </tr>\n  </tbody>\n</table>\n</div>"
     },
     "metadata": {}
    }
   ]
  },
  {
   "cell_type": "code",
   "metadata": {
    "cell_id": "ebf2a45c85b94ef49f71cb54b1532e99",
    "tags": [],
    "deepnote_to_be_reexecuted": false,
    "source_hash": "233e6dae",
    "execution_start": 1659915150244,
    "execution_millis": 675,
    "deepnote_cell_type": "code",
    "deepnote_cell_height": 149.1875,
    "deepnote_output_heights": [
     21.1875
    ]
   },
   "source": "d = shipments.ETA[1]\ndt.datetime.strptime(d, '%m/%d/%y')\nautoconvert_datetime(d)",
   "execution_count": null,
   "outputs": [
    {
     "output_type": "execute_result",
     "execution_count": 183,
     "data": {
      "text/plain": "'2021-06-17'"
     },
     "metadata": {}
    }
   ]
  },
  {
   "cell_type": "code",
   "metadata": {
    "cell_id": "5b1b7eafc35d4d68b6545145cbeb79cc",
    "tags": [],
    "deepnote_to_be_reexecuted": false,
    "source_hash": "7a15d2ed",
    "execution_start": 1659914615793,
    "execution_millis": 174,
    "deepnote_cell_type": "code",
    "deepnote_cell_height": 517.796875
   },
   "source": "date_cols:list = ['Shipment Date', 'ETA', 'Delivery Date']\nnew_date_cols:list = ['shipped_date', 'eta_date', 'delivered_date']\n\ndef autoconvert_datetime(value):\n    formats = ['%m/%d/%Y','%m/%d/%y', '%m-%d-%y', '%d-%B', '%d %B']  # formats to try\n    result_format = '%d-%m-%Y'  # output format\n    exception_ct = 0\n    for dt_format in formats:\n        try:\n            dt_obj = dt.datetime.strptime(value, dt_format)\n            return dt_obj.strftime(result_format)\n        except Exception as e:  # throws exception when format doesn't match\n            exception_ct += 1\n            pass\n    #print(f\"Total number of exceptions: {exception_ct}\")\n    return value  # let it be if it doesn't match\n\nshipments['ETA'] = shipments['ETA'].apply(autoconvert_datetime)",
   "execution_count": null,
   "outputs": [
    {
     "name": "stdout",
     "text": "Total number of exceptions: 5\nTotal number of exceptions: 5\nTotal number of exceptions: 5\nTotal number of exceptions: 5\nTotal number of exceptions: 5\nTotal number of exceptions: 5\n",
     "output_type": "stream"
    }
   ]
  },
  {
   "cell_type": "code",
   "metadata": {
    "cell_id": "8cb5f43fe39e474db563711a47015e25",
    "tags": [],
    "deepnote_to_be_reexecuted": false,
    "source_hash": "a79831a3",
    "execution_start": 1659914639498,
    "execution_millis": 6,
    "deepnote_table_state": {
     "pageSize": 10,
     "pageIndex": 0,
     "filters": [],
     "sortBy": []
    },
    "deepnote_table_loading": false,
    "deepnote_cell_type": "code",
    "deepnote_cell_height": 595
   },
   "source": "shipments",
   "execution_count": null,
   "outputs": [
    {
     "output_type": "execute_result",
     "execution_count": 172,
     "data": {
      "application/vnd.deepnote.dataframe.v3+json": {
       "column_count": 14,
       "row_count": 165,
       "columns": [
        {
         "name": "SO#",
         "dtype": "object",
         "stats": {
          "unique_count": 161,
          "nan_count": 0,
          "categories": [
           {
            "name": "74470",
            "count": 2
           },
           {
            "name": "75483",
            "count": 2
           },
           {
            "name": "159 others",
            "count": 161
           }
          ]
         }
        },
        {
         "name": "PO#",
         "dtype": "object",
         "stats": {
          "unique_count": 160,
          "nan_count": 0,
          "categories": [
           {
            "name": "S1220234",
            "count": 2
           },
           {
            "name": "Not Entered",
            "count": 2
           },
           {
            "name": "158 others",
            "count": 161
           }
          ]
         }
        },
        {
         "name": "Customer",
         "dtype": "object",
         "stats": {
          "unique_count": 24,
          "nan_count": 0,
          "categories": [
           {
            "name": "Bunzl",
            "count": 73
           },
           {
            "name": "Wasserstrom",
            "count": 24
           },
           {
            "name": "22 others",
            "count": 68
           }
          ]
         }
        },
        {
         "name": "Destination / Zip Code",
         "dtype": "object",
         "stats": {
          "unique_count": 73,
          "nan_count": 0,
          "categories": [
           {
            "name": "AZ, 85345",
            "count": 9
           },
           {
            "name": "PA, 17406",
            "count": 6
           },
           {
            "name": "71 others",
            "count": 150
           }
          ]
         }
        },
        {
         "name": "Shipment Date",
         "dtype": "datetime64[ns]",
         "stats": {
          "unique_count": 105,
          "nan_count": 0,
          "min": "2021-06-07 00:00:00",
          "max": "2022-03-28 00:00:00",
          "histogram": [
           {
            "bin_start": 1623024000000000000,
            "bin_end": 1625564160000000000,
            "count": 18
           },
           {
            "bin_start": 1625564160000000000,
            "bin_end": 1628104320000000000,
            "count": 28
           },
           {
            "bin_start": 1628104320000000000,
            "bin_end": 1630644480000000000,
            "count": 16
           },
           {
            "bin_start": 1630644480000000000,
            "bin_end": 1633184640000000000,
            "count": 15
           },
           {
            "bin_start": 1633184640000000000,
            "bin_end": 1635724800000000000,
            "count": 15
           },
           {
            "bin_start": 1635724800000000000,
            "bin_end": 1638264960000000000,
            "count": 11
           },
           {
            "bin_start": 1638264960000000000,
            "bin_end": 1640805120000000000,
            "count": 17
           },
           {
            "bin_start": 1640805120000000000,
            "bin_end": 1643345280000000000,
            "count": 11
           },
           {
            "bin_start": 1643345280000000000,
            "bin_end": 1645885440000000000,
            "count": 23
           },
           {
            "bin_start": 1645885440000000000,
            "bin_end": 1648425600000000000,
            "count": 11
           }
          ]
         }
        },
        {
         "name": "Carrier",
         "dtype": "object",
         "stats": {
          "unique_count": 27,
          "nan_count": 0,
          "categories": [
           {
            "name": "Conway",
            "count": 58
           },
           {
            "name": "R&L",
            "count": 23
           },
           {
            "name": "25 others",
            "count": 84
           }
          ]
         }
        },
        {
         "name": "PRO# Wass",
         "dtype": "object",
         "stats": {
          "unique_count": 16,
          "nan_count": 0,
          "categories": [
           {
            "name": "Not Entered",
            "count": 150
           },
           {
            "name": "41114802-6",
            "count": 1
           },
           {
            "name": "14 others",
            "count": 14
           }
          ]
         }
        },
        {
         "name": "PRO#",
         "dtype": "object",
         "stats": {
          "unique_count": 164,
          "nan_count": 0,
          "categories": [
           {
            "name": "833618634",
            "count": 2
           },
           {
            "name": "606690232",
            "count": 1
           },
           {
            "name": "162 others",
            "count": 162
           }
          ]
         }
        },
        {
         "name": "Broker Quote",
         "dtype": "object",
         "stats": {
          "unique_count": 15,
          "nan_count": 0,
          "categories": [
           {
            "name": "Not Entered",
            "count": 151
           },
           {
            "name": "$442.96 ",
            "count": 1
           },
           {
            "name": "13 others",
            "count": 13
           }
          ]
         }
        },
        {
         "name": "Invoice amount",
         "dtype": "object",
         "stats": {
          "unique_count": 1,
          "nan_count": 0,
          "categories": [
           {
            "name": "Not Entered",
            "count": 165
           }
          ]
         }
        },
        {
         "name": "ETA",
         "dtype": "object",
         "stats": {
          "unique_count": 103,
          "nan_count": 0,
          "categories": [
           {
            "name": "Not Entered",
            "count": 6
           },
           {
            "name": "27-07-2021",
            "count": 4
           },
           {
            "name": "101 others",
            "count": 155
           }
          ]
         }
        },
        {
         "name": "Delivery Date",
         "dtype": "object",
         "stats": {
          "unique_count": 110,
          "nan_count": 0,
          "categories": [
           {
            "name": "7/27/2021",
            "count": 6
           },
           {
            "name": "7/29/2021",
            "count": 4
           },
           {
            "name": "108 others",
            "count": 155
           }
          ]
         }
        },
        {
         "name": "Transit Time",
         "dtype": "object",
         "stats": {
          "unique_count": 29,
          "nan_count": 0,
          "categories": [
           {
            "name": "8",
            "count": 23
           },
           {
            "name": "7",
            "count": 19
           },
           {
            "name": "27 others",
            "count": 123
           }
          ]
         }
        },
        {
         "name": "Status",
         "dtype": "object",
         "stats": {
          "unique_count": 4,
          "nan_count": 0,
          "categories": [
           {
            "name": "Delivered",
            "count": 111
           },
           {
            "name": "Delivered ",
            "count": 45
           },
           {
            "name": "2 others",
            "count": 9
           }
          ]
         }
        },
        {
         "name": "_deepnote_index_column",
         "dtype": "int64"
        }
       ],
       "rows": [
        {
         "SO#": "74509",
         "PO#": "582539",
         "Customer": "Bunzl",
         "Destination / Zip Code": "GA, 30122",
         "Shipment Date": "2021-06-07T00:00:00Z",
         "Carrier": "Conway",
         "PRO# Wass": "Not Entered",
         "PRO#": "606690232",
         "Broker Quote": "Not Entered",
         "Invoice amount": "Not Entered",
         "ETA": "17-06-2021",
         "Delivery Date": "06/22/21",
         "Transit Time": "15",
         "Status": "Delivered",
         "_deepnote_index_column": 0
        },
        {
         "SO#": "74421",
         "PO#": "625204",
         "Customer": "Bunzl",
         "Destination / Zip Code": "VA, 23231",
         "Shipment Date": "2021-06-09T00:00:00Z",
         "Carrier": "Conway",
         "PRO# Wass": "Not Entered",
         "PRO#": "606690685",
         "Broker Quote": "Not Entered",
         "Invoice amount": "Not Entered",
         "ETA": "17-06-2021",
         "Delivery Date": "06/17/21",
         "Transit Time": "8",
         "Status": "Delivered",
         "_deepnote_index_column": 1
        },
        {
         "SO#": "74345",
         "PO#": "471115",
         "Customer": "Bunzl",
         "Destination / Zip Code": "PA, 17406",
         "Shipment Date": "2021-06-10T00:00:00Z",
         "Carrier": "Conway",
         "PRO# Wass": "Not Entered",
         "PRO#": "606678435",
         "Broker Quote": "Not Entered",
         "Invoice amount": "Not Entered",
         "ETA": "18-06-2021",
         "Delivery Date": "06/23/21",
         "Transit Time": "13",
         "Status": "Delivered",
         "_deepnote_index_column": 2
        },
        {
         "SO#": "74539",
         "PO#": "625070",
         "Customer": "Bunzl",
         "Destination / Zip Code": "IL, 60446",
         "Shipment Date": "2021-06-11T00:00:00Z",
         "Carrier": "Conway",
         "PRO# Wass": "Not Entered",
         "PRO#": "606696182",
         "Broker Quote": "Not Entered",
         "Invoice amount": "Not Entered",
         "ETA": "18-06-2021",
         "Delivery Date": "06/24/21",
         "Transit Time": "13",
         "Status": "Delivered",
         "_deepnote_index_column": 3
        },
        {
         "SO#": "74548",
         "PO#": "597541",
         "Customer": "Bunzl",
         "Destination / Zip Code": "MS, 38671",
         "Shipment Date": "2021-06-14T00:00:00Z",
         "Carrier": "Conway",
         "PRO# Wass": "Not Entered",
         "PRO#": "606697626",
         "Broker Quote": "Not Entered",
         "Invoice amount": "Not Entered",
         "ETA": "22-06-2021",
         "Delivery Date": "06/23/21",
         "Transit Time": "9",
         "Status": "Delivered",
         "_deepnote_index_column": 4
        },
        {
         "SO#": "74544",
         "PO#": "685812",
         "Customer": "Bunzl",
         "Destination / Zip Code": "NY, 12302",
         "Shipment Date": "2021-06-14T00:00:00Z",
         "Carrier": "Conway",
         "PRO# Wass": "Not Entered",
         "PRO#": "606697615",
         "Broker Quote": "Not Entered",
         "Invoice amount": "Not Entered",
         "ETA": "22-06-2021",
         "Delivery Date": "06/29/21",
         "Transit Time": "15",
         "Status": "Delivered",
         "_deepnote_index_column": 5
        },
        {
         "SO#": "74567",
         "PO#": "597869",
         "Customer": "Bunzl",
         "Destination / Zip Code": "OK, 73135",
         "Shipment Date": "2021-06-15T00:00:00Z",
         "Carrier": "Conway",
         "PRO# Wass": "Not Entered",
         "PRO#": "606662280",
         "Broker Quote": "Not Entered",
         "Invoice amount": "Not Entered",
         "ETA": "22-06-2021",
         "Delivery Date": "06/24/21",
         "Transit Time": "9",
         "Status": "Delivered",
         "_deepnote_index_column": 6
        },
        {
         "SO#": "74566",
         "PO#": "597853",
         "Customer": "Bunzl",
         "Destination / Zip Code": "LA, 70087",
         "Shipment Date": "2021-06-15T00:00:00Z",
         "Carrier": "Conway",
         "PRO# Wass": "Not Entered",
         "PRO#": "606662276",
         "Broker Quote": "Not Entered",
         "Invoice amount": "Not Entered",
         "ETA": "23-06-2021",
         "Delivery Date": "06/23/21",
         "Transit Time": "8",
         "Status": "Delivered",
         "_deepnote_index_column": 7
        },
        {
         "SO#": "74470",
         "PO#": "S1220234",
         "Customer": "GMRI",
         "Destination / Zip Code": "FL, 32809",
         "Shipment Date": "2021-06-17T00:00:00Z",
         "Carrier": "ESTES",
         "PRO# Wass": "Not Entered",
         "PRO#": "291-3481205",
         "Broker Quote": "Not Entered",
         "Invoice amount": "Not Entered",
         "ETA": "28-06-2021",
         "Delivery Date": "06/28/21",
         "Transit Time": "11",
         "Status": "Delivered",
         "_deepnote_index_column": 8
        },
        {
         "SO#": "74552",
         "PO#": "4502640620",
         "Customer": "Wasswerstrom",
         "Destination / Zip Code": "AZ, 85345",
         "Shipment Date": "2021-06-21T00:00:00Z",
         "Carrier": "Reddaway",
         "PRO# Wass": "Not Entered",
         "PRO#": "3012939825",
         "Broker Quote": "Not Entered",
         "Invoice amount": "Not Entered",
         "ETA": "23-06-2021",
         "Delivery Date": "06/22/21",
         "Transit Time": "1",
         "Status": "Delivered",
         "_deepnote_index_column": 9
        }
       ]
      },
      "text/plain": "       SO#          PO# Customer Destination / Zip Code Shipment Date  \\\n0    74509       582539    Bunzl              GA, 30122    2021-06-07   \n1    74421       625204    Bunzl              VA, 23231    2021-06-09   \n2    74345       471115    Bunzl              PA, 17406    2021-06-10   \n3    74539       625070    Bunzl              IL, 60446    2021-06-11   \n4    74548       597541    Bunzl              MS, 38671    2021-06-14   \n..     ...          ...      ...                    ...           ...   \n160  76400       501055   Bunzl               Md, 21076    2022-03-11   \n161  76373      603738A  Lineage              Tx, 76134    2022-03-11   \n162  76384       500735   Bunzl               PA, 15056    2022-03-14   \n163  76382     S1226595     GMRI              FL, 32859    2022-03-16   \n164  76521  5603064-100  Mallory              CA, 94539    2022-03-28   \n\n         Carrier    PRO# Wass         PRO# Broker Quote Invoice amount  \\\n0         Conway  Not Entered    606690232  Not Entered    Not Entered   \n1         Conway  Not Entered    606690685  Not Entered    Not Entered   \n2         Conway  Not Entered    606678435  Not Entered    Not Entered   \n3         Conway  Not Entered    606696182  Not Entered    Not Entered   \n4         Conway  Not Entered    606697626  Not Entered    Not Entered   \n..           ...          ...          ...          ...            ...   \n160      Conway   Not Entered   152-852221  Not Entered    Not Entered   \n161  Roadrunner   Not Entered    453482952  Not Entered    Not Entered   \n162      Conway   Not Entered   152-911964  Not Entered    Not Entered   \n163        Estes  Not Entered  291-3627028  Not Entered    Not Entered   \n164     Hercules  Not Entered     67793689  Not Entered    Not Entered   \n\n            ETA Delivery Date Transit Time        Status  \n0    17-06-2021      06/22/21           15     Delivered  \n1    17-06-2021      06/17/21            8     Delivered  \n2    18-06-2021      06/23/21           13     Delivered  \n3    18-06-2021      06/24/21           13     Delivered  \n4    22-06-2021      06/23/21            9     Delivered  \n..          ...           ...          ...           ...  \n160  11-03-2022     3/22/2022           11     Delivered  \n161  11-03-2022     3/18/2022            7     Delivered  \n162  23-03-2022     3/21/2022            7     Delivered  \n163  25-03-2022     3/22/2022            6     Delivered  \n164  30-03-2022   Not Entered     10/02/77  In- Transit   \n\n[165 rows x 14 columns]",
      "text/html": "<div>\n<style scoped>\n    .dataframe tbody tr th:only-of-type {\n        vertical-align: middle;\n    }\n\n    .dataframe tbody tr th {\n        vertical-align: top;\n    }\n\n    .dataframe thead th {\n        text-align: right;\n    }\n</style>\n<table border=\"1\" class=\"dataframe\">\n  <thead>\n    <tr style=\"text-align: right;\">\n      <th></th>\n      <th>SO#</th>\n      <th>PO#</th>\n      <th>Customer</th>\n      <th>Destination / Zip Code</th>\n      <th>Shipment Date</th>\n      <th>Carrier</th>\n      <th>PRO# Wass</th>\n      <th>PRO#</th>\n      <th>Broker Quote</th>\n      <th>Invoice amount</th>\n      <th>ETA</th>\n      <th>Delivery Date</th>\n      <th>Transit Time</th>\n      <th>Status</th>\n    </tr>\n  </thead>\n  <tbody>\n    <tr>\n      <th>0</th>\n      <td>74509</td>\n      <td>582539</td>\n      <td>Bunzl</td>\n      <td>GA, 30122</td>\n      <td>2021-06-07</td>\n      <td>Conway</td>\n      <td>Not Entered</td>\n      <td>606690232</td>\n      <td>Not Entered</td>\n      <td>Not Entered</td>\n      <td>17-06-2021</td>\n      <td>06/22/21</td>\n      <td>15</td>\n      <td>Delivered</td>\n    </tr>\n    <tr>\n      <th>1</th>\n      <td>74421</td>\n      <td>625204</td>\n      <td>Bunzl</td>\n      <td>VA, 23231</td>\n      <td>2021-06-09</td>\n      <td>Conway</td>\n      <td>Not Entered</td>\n      <td>606690685</td>\n      <td>Not Entered</td>\n      <td>Not Entered</td>\n      <td>17-06-2021</td>\n      <td>06/17/21</td>\n      <td>8</td>\n      <td>Delivered</td>\n    </tr>\n    <tr>\n      <th>2</th>\n      <td>74345</td>\n      <td>471115</td>\n      <td>Bunzl</td>\n      <td>PA, 17406</td>\n      <td>2021-06-10</td>\n      <td>Conway</td>\n      <td>Not Entered</td>\n      <td>606678435</td>\n      <td>Not Entered</td>\n      <td>Not Entered</td>\n      <td>18-06-2021</td>\n      <td>06/23/21</td>\n      <td>13</td>\n      <td>Delivered</td>\n    </tr>\n    <tr>\n      <th>3</th>\n      <td>74539</td>\n      <td>625070</td>\n      <td>Bunzl</td>\n      <td>IL, 60446</td>\n      <td>2021-06-11</td>\n      <td>Conway</td>\n      <td>Not Entered</td>\n      <td>606696182</td>\n      <td>Not Entered</td>\n      <td>Not Entered</td>\n      <td>18-06-2021</td>\n      <td>06/24/21</td>\n      <td>13</td>\n      <td>Delivered</td>\n    </tr>\n    <tr>\n      <th>4</th>\n      <td>74548</td>\n      <td>597541</td>\n      <td>Bunzl</td>\n      <td>MS, 38671</td>\n      <td>2021-06-14</td>\n      <td>Conway</td>\n      <td>Not Entered</td>\n      <td>606697626</td>\n      <td>Not Entered</td>\n      <td>Not Entered</td>\n      <td>22-06-2021</td>\n      <td>06/23/21</td>\n      <td>9</td>\n      <td>Delivered</td>\n    </tr>\n    <tr>\n      <th>...</th>\n      <td>...</td>\n      <td>...</td>\n      <td>...</td>\n      <td>...</td>\n      <td>...</td>\n      <td>...</td>\n      <td>...</td>\n      <td>...</td>\n      <td>...</td>\n      <td>...</td>\n      <td>...</td>\n      <td>...</td>\n      <td>...</td>\n      <td>...</td>\n    </tr>\n    <tr>\n      <th>160</th>\n      <td>76400</td>\n      <td>501055</td>\n      <td>Bunzl</td>\n      <td>Md, 21076</td>\n      <td>2022-03-11</td>\n      <td>Conway</td>\n      <td>Not Entered</td>\n      <td>152-852221</td>\n      <td>Not Entered</td>\n      <td>Not Entered</td>\n      <td>11-03-2022</td>\n      <td>3/22/2022</td>\n      <td>11</td>\n      <td>Delivered</td>\n    </tr>\n    <tr>\n      <th>161</th>\n      <td>76373</td>\n      <td>603738A</td>\n      <td>Lineage</td>\n      <td>Tx, 76134</td>\n      <td>2022-03-11</td>\n      <td>Roadrunner</td>\n      <td>Not Entered</td>\n      <td>453482952</td>\n      <td>Not Entered</td>\n      <td>Not Entered</td>\n      <td>11-03-2022</td>\n      <td>3/18/2022</td>\n      <td>7</td>\n      <td>Delivered</td>\n    </tr>\n    <tr>\n      <th>162</th>\n      <td>76384</td>\n      <td>500735</td>\n      <td>Bunzl</td>\n      <td>PA, 15056</td>\n      <td>2022-03-14</td>\n      <td>Conway</td>\n      <td>Not Entered</td>\n      <td>152-911964</td>\n      <td>Not Entered</td>\n      <td>Not Entered</td>\n      <td>23-03-2022</td>\n      <td>3/21/2022</td>\n      <td>7</td>\n      <td>Delivered</td>\n    </tr>\n    <tr>\n      <th>163</th>\n      <td>76382</td>\n      <td>S1226595</td>\n      <td>GMRI</td>\n      <td>FL, 32859</td>\n      <td>2022-03-16</td>\n      <td>Estes</td>\n      <td>Not Entered</td>\n      <td>291-3627028</td>\n      <td>Not Entered</td>\n      <td>Not Entered</td>\n      <td>25-03-2022</td>\n      <td>3/22/2022</td>\n      <td>6</td>\n      <td>Delivered</td>\n    </tr>\n    <tr>\n      <th>164</th>\n      <td>76521</td>\n      <td>5603064-100</td>\n      <td>Mallory</td>\n      <td>CA, 94539</td>\n      <td>2022-03-28</td>\n      <td>Hercules</td>\n      <td>Not Entered</td>\n      <td>67793689</td>\n      <td>Not Entered</td>\n      <td>Not Entered</td>\n      <td>30-03-2022</td>\n      <td>Not Entered</td>\n      <td>10/02/77</td>\n      <td>In- Transit</td>\n    </tr>\n  </tbody>\n</table>\n<p>165 rows × 14 columns</p>\n</div>"
     },
     "metadata": {}
    }
   ]
  },
  {
   "cell_type": "code",
   "metadata": {
    "cell_id": "fa3ad9b18ed54174b681c04a691f364a",
    "tags": [],
    "deepnote_to_be_reexecuted": false,
    "source_hash": "70b59595",
    "execution_start": 1659911111216,
    "execution_millis": 508,
    "deepnote_cell_type": "code",
    "deepnote_cell_height": 439.578125,
    "deepnote_output_heights": [
     347.59375
    ]
   },
   "source": "shipments.isnull().sum()",
   "execution_count": null,
   "outputs": [
    {
     "output_type": "execute_result",
     "execution_count": 136,
     "data": {
      "text/plain": "SO#                       0\nPO#                       0\nCustomer                  0\nDestination / Zip Code    0\nShipment Date             0\nCarrier                   0\nPRO# Wass                 0\nPRO#                      0\nBroker Quote              0\nInvoice amount            0\nETA                       0\nDelivery Date             0\nTransit Time              0\nStatus                    0\nshipped_date              0\neta_date                  0\ndelivered_date            0\ndtype: int64"
     },
     "metadata": {}
    }
   ]
  },
  {
   "cell_type": "code",
   "metadata": {
    "cell_id": "65eeb512692341689fd95dbc03c0e182",
    "tags": [],
    "deepnote_to_be_reexecuted": false,
    "source_hash": "eaf8fd03",
    "execution_start": 1659820125069,
    "execution_millis": 3,
    "deepnote_cell_type": "code",
    "deepnote_cell_height": 572.78125,
    "deepnote_output_heights": [
     462.796875
    ]
   },
   "source": "x = set(shipments.Customer)\nx",
   "execution_count": null,
   "outputs": [
    {
     "output_type": "execute_result",
     "execution_count": 48,
     "data": {
      "text/plain": "{'Buccaneer',\n 'Bunzl',\n 'Bunzl ',\n 'CDC',\n 'DOT IT',\n 'Ed Don',\n 'GMRI',\n 'ImperialDade',\n 'ImperialDale',\n 'Kinexo - McLane',\n 'Lineage',\n 'Lineage ',\n 'Lineage- Fort Worth',\n 'Lineage- Wilmington',\n 'Magid Glove ',\n 'Mallory',\n 'ROSS',\n 'Ross',\n 'Spirit Mart ',\n 'TriMark',\n 'Wasserstrom',\n 'Wasserstrom ',\n 'Wasswerstrom',\n nan}"
     },
     "metadata": {}
    }
   ]
  },
  {
   "cell_type": "code",
   "metadata": {
    "cell_id": "c7605c96faff444498f86e3efa968597",
    "tags": [],
    "deepnote_to_be_reexecuted": false,
    "source_hash": "684aa937",
    "execution_start": 1659819915802,
    "execution_millis": 24,
    "deepnote_cell_type": "code",
    "deepnote_cell_height": 76
   },
   "source": "shipments[\"Shipment Date\"] = pd.to_datetime(shipments[\"Shipment Date\"])",
   "execution_count": null,
   "outputs": []
  },
  {
   "cell_type": "code",
   "metadata": {
    "cell_id": "f51acdd23df545a39494a960a843cc59",
    "tags": [],
    "deepnote_to_be_reexecuted": false,
    "source_hash": "d23e3ad9",
    "execution_start": 1659819929847,
    "execution_millis": 1,
    "deepnote_cell_type": "code",
    "deepnote_cell_height": 439.578125,
    "deepnote_output_heights": [
     347.59375
    ]
   },
   "source": "shipments.dtypes",
   "execution_count": null,
   "outputs": [
    {
     "output_type": "execute_result",
     "execution_count": 43,
     "data": {
      "text/plain": "SO#                               object\nPO#                               object\nCustomer                          object\nDestination / Zip Code            object\nShipment Date             datetime64[ns]\nCarrier                           object\nPRO# Wass                         object\nPRO#                              object\nBroker Quote                      object\nInvoice amount                   float64\nETA                               object\nDelivery Date                     object\nTransit Time                      object\nStatus                            object\nUnnamed: 14                      float64\nUnnamed: 15                       object\nUnnamed: 16                       object\ndtype: object"
     },
     "metadata": {}
    }
   ]
  },
  {
   "cell_type": "code",
   "metadata": {
    "cell_id": "15aa0bab934347a78730d55fe176d9ef",
    "tags": [],
    "deepnote_to_be_reexecuted": false,
    "source_hash": "b249a3ee",
    "execution_start": 1659819945968,
    "execution_millis": 61,
    "deepnote_cell_type": "code",
    "deepnote_cell_height": 390
   },
   "source": "shipments.sample(5)",
   "execution_count": null,
   "outputs": [
    {
     "output_type": "execute_result",
     "execution_count": 44,
     "data": {
      "application/vnd.deepnote.dataframe.v3+json": {
       "column_count": 17,
       "row_count": 5,
       "columns": [
        {
         "name": "SO#",
         "dtype": "object",
         "stats": {
          "unique_count": 5,
          "nan_count": 0,
          "categories": [
           {
            "name": "74552",
            "count": 1
           },
           {
            "name": "75462, 74993",
            "count": 1
           },
           {
            "name": "3 others",
            "count": 3
           }
          ]
         }
        },
        {
         "name": "PO#",
         "dtype": "object",
         "stats": {
          "unique_count": 5,
          "nan_count": 0,
          "categories": [
           {
            "name": "4502640620",
            "count": 1
           },
           {
            "name": "314076, 324287",
            "count": 1
           },
           {
            "name": "3 others",
            "count": 3
           }
          ]
         }
        },
        {
         "name": "Customer",
         "dtype": "object",
         "stats": {
          "unique_count": 3,
          "nan_count": 0,
          "categories": [
           {
            "name": "Bunzl",
            "count": 3
           },
           {
            "name": "Wasswerstrom",
            "count": 1
           },
           {
            "name": "ROSS",
            "count": 1
           }
          ]
         }
        },
        {
         "name": "Destination / Zip Code",
         "dtype": "object",
         "stats": {
          "unique_count": 5,
          "nan_count": 0,
          "categories": [
           {
            "name": "AZ, 85345",
            "count": 1
           },
           {
            "name": "PA, 19020",
            "count": 1
           },
           {
            "name": "3 others",
            "count": 3
           }
          ]
         }
        },
        {
         "name": "Shipment Date",
         "dtype": "datetime64[ns]",
         "stats": {
          "unique_count": 5,
          "nan_count": 0,
          "min": "2021-06-21 00:00:00",
          "max": "2021-12-22 00:00:00",
          "histogram": [
           {
            "bin_start": 1624233600000000000,
            "bin_end": 1625823360000000000,
            "count": 1
           },
           {
            "bin_start": 1625823360000000000,
            "bin_end": 1627413120000000000,
            "count": 0
           },
           {
            "bin_start": 1627413120000000000,
            "bin_end": 1629002880000000000,
            "count": 1
           },
           {
            "bin_start": 1629002880000000000,
            "bin_end": 1630592640000000000,
            "count": 1
           },
           {
            "bin_start": 1630592640000000000,
            "bin_end": 1632182400000000000,
            "count": 1
           },
           {
            "bin_start": 1632182400000000000,
            "bin_end": 1633772160000000000,
            "count": 0
           },
           {
            "bin_start": 1633772160000000000,
            "bin_end": 1635361920000000000,
            "count": 0
           },
           {
            "bin_start": 1635361920000000000,
            "bin_end": 1636951680000000000,
            "count": 0
           },
           {
            "bin_start": 1636951680000000000,
            "bin_end": 1638541440000000000,
            "count": 0
           },
           {
            "bin_start": 1638541440000000000,
            "bin_end": 1640131200000000000,
            "count": 1
           }
          ]
         }
        },
        {
         "name": "Carrier",
         "dtype": "object",
         "stats": {
          "unique_count": 4,
          "nan_count": 0,
          "categories": [
           {
            "name": "Conway",
            "count": 2
           },
           {
            "name": "Reddaway",
            "count": 1
           },
           {
            "name": "2 others",
            "count": 2
           }
          ]
         }
        },
        {
         "name": "PRO# Wass",
         "dtype": "object",
         "stats": {
          "unique_count": 0,
          "nan_count": 5,
          "categories": [
           {
            "name": "Missing",
            "count": 5
           }
          ]
         }
        },
        {
         "name": "PRO#",
         "dtype": "object",
         "stats": {
          "unique_count": 5,
          "nan_count": 0,
          "categories": [
           {
            "name": "3012939825",
            "count": 1
           },
           {
            "name": "815-698634",
            "count": 1
           },
           {
            "name": "3 others",
            "count": 3
           }
          ]
         }
        },
        {
         "name": "Broker Quote",
         "dtype": "object",
         "stats": {
          "unique_count": 0,
          "nan_count": 5,
          "categories": [
           {
            "name": "Missing",
            "count": 5
           }
          ]
         }
        },
        {
         "name": "Invoice amount",
         "dtype": "float64",
         "stats": {
          "unique_count": 0,
          "nan_count": 5,
          "min": null,
          "max": null,
          "histogram": [
           {
            "bin_start": 0,
            "bin_end": 0.1,
            "count": 0
           },
           {
            "bin_start": 0.1,
            "bin_end": 0.2,
            "count": 0
           },
           {
            "bin_start": 0.2,
            "bin_end": 0.30000000000000004,
            "count": 0
           },
           {
            "bin_start": 0.30000000000000004,
            "bin_end": 0.4,
            "count": 0
           },
           {
            "bin_start": 0.4,
            "bin_end": 0.5,
            "count": 0
           },
           {
            "bin_start": 0.5,
            "bin_end": 0.6000000000000001,
            "count": 0
           },
           {
            "bin_start": 0.6000000000000001,
            "bin_end": 0.7000000000000001,
            "count": 0
           },
           {
            "bin_start": 0.7000000000000001,
            "bin_end": 0.8,
            "count": 0
           },
           {
            "bin_start": 0.8,
            "bin_end": 0.9,
            "count": 0
           },
           {
            "bin_start": 0.9,
            "bin_end": 1,
            "count": 0
           }
          ]
         }
        },
        {
         "name": "ETA",
         "dtype": "object",
         "stats": {
          "unique_count": 5,
          "nan_count": 0,
          "categories": [
           {
            "name": "06/23/21",
            "count": 1
           },
           {
            "name": "12/30/21",
            "count": 1
           },
           {
            "name": "3 others",
            "count": 3
           }
          ]
         }
        },
        {
         "name": "Delivery Date",
         "dtype": "object",
         "stats": {
          "unique_count": 4,
          "nan_count": 1,
          "categories": [
           {
            "name": "06/22/21",
            "count": 1
           },
           {
            "name": "3 others",
            "count": 3
           },
           {
            "name": "Missing",
            "count": 1
           }
          ]
         }
        },
        {
         "name": "Transit Time",
         "dtype": "object",
         "stats": {
          "unique_count": 5,
          "nan_count": 0,
          "categories": [
           {
            "name": "1",
            "count": 1
           },
           {
            "name": "29",
            "count": 1
           },
           {
            "name": "3 others",
            "count": 3
           }
          ]
         }
        },
        {
         "name": "Status",
         "dtype": "object",
         "stats": {
          "unique_count": 2,
          "nan_count": 0,
          "categories": [
           {
            "name": "Delivered",
            "count": 4
           },
           {
            "name": "Delivered ",
            "count": 1
           }
          ]
         }
        },
        {
         "name": "Unnamed: 14",
         "dtype": "float64",
         "stats": {
          "unique_count": 0,
          "nan_count": 5,
          "min": null,
          "max": null,
          "histogram": [
           {
            "bin_start": 0,
            "bin_end": 0.1,
            "count": 0
           },
           {
            "bin_start": 0.1,
            "bin_end": 0.2,
            "count": 0
           },
           {
            "bin_start": 0.2,
            "bin_end": 0.30000000000000004,
            "count": 0
           },
           {
            "bin_start": 0.30000000000000004,
            "bin_end": 0.4,
            "count": 0
           },
           {
            "bin_start": 0.4,
            "bin_end": 0.5,
            "count": 0
           },
           {
            "bin_start": 0.5,
            "bin_end": 0.6000000000000001,
            "count": 0
           },
           {
            "bin_start": 0.6000000000000001,
            "bin_end": 0.7000000000000001,
            "count": 0
           },
           {
            "bin_start": 0.7000000000000001,
            "bin_end": 0.8,
            "count": 0
           },
           {
            "bin_start": 0.8,
            "bin_end": 0.9,
            "count": 0
           },
           {
            "bin_start": 0.9,
            "bin_end": 1,
            "count": 0
           }
          ]
         }
        },
        {
         "name": "Unnamed: 15",
         "dtype": "object",
         "stats": {
          "unique_count": 1,
          "nan_count": 4,
          "categories": [
           {
            "name": "2",
            "count": 1
           },
           {
            "name": "Missing",
            "count": 4
           }
          ]
         }
        },
        {
         "name": "Unnamed: 16",
         "dtype": "object",
         "stats": {
          "unique_count": 1,
          "nan_count": 4,
          "categories": [
           {
            "name": "Picked up",
            "count": 1
           },
           {
            "name": "Missing",
            "count": 4
           }
          ]
         }
        },
        {
         "name": "_deepnote_index_column",
         "dtype": "int64"
        }
       ],
       "rows": [
        {
         "SO#": "74552",
         "PO#": "4502640620",
         "Customer": "Wasswerstrom",
         "Destination / Zip Code": "AZ, 85345",
         "Shipment Date": "2021-06-21T00:00:00.000000",
         "Carrier": "Reddaway",
         "PRO# Wass": "nan",
         "PRO#": "3012939825",
         "Broker Quote": "nan",
         "Invoice amount": "nan",
         "ETA": "06/23/21",
         "Delivery Date": "06/22/21",
         "Transit Time": "1",
         "Status": "Delivered",
         "Unnamed: 14": "nan",
         "Unnamed: 15": "2",
         "Unnamed: 16": "Picked up",
         "_deepnote_index_column": 9
        },
        {
         "SO#": "75462, 74993",
         "PO#": "314076, 324287",
         "Customer": "Bunzl",
         "Destination / Zip Code": "PA, 19020",
         "Shipment Date": "2021-12-22T00:00:00.000000",
         "Carrier": "Conway",
         "PRO# Wass": "nan",
         "PRO#": "815-698634",
         "Broker Quote": "nan",
         "Invoice amount": "nan",
         "ETA": "12/30/21",
         "Delivery Date": "1/20/2022",
         "Transit Time": "29",
         "Status": "Delivered ",
         "Unnamed: 14": "nan",
         "Unnamed: 15": "nan",
         "Unnamed: 16": "nan",
         "_deepnote_index_column": 119
        },
        {
         "SO#": "75042",
         "PO#": "687542",
         "Customer": "Bunzl",
         "Destination / Zip Code": "NY, 12302",
         "Shipment Date": "2021-08-24T00:00:00.000000",
         "Carrier": "Ups Freight ",
         "PRO# Wass": "nan",
         "PRO#": "874485931",
         "Broker Quote": "nan",
         "Invoice amount": "nan",
         "ETA": "08/31/21",
         "Delivery Date": "9/15/2021",
         "Transit Time": "22",
         "Status": "Delivered",
         "Unnamed: 14": "nan",
         "Unnamed: 15": "nan",
         "Unnamed: 16": "nan",
         "_deepnote_index_column": 55
        },
        {
         "SO#": "75235",
         "PO#": "540786",
         "Customer": "Bunzl",
         "Destination / Zip Code": "NJ, 08852",
         "Shipment Date": "2021-09-10T00:00:00.000000",
         "Carrier": "Conway",
         "PRO# Wass": "nan",
         "PRO#": "815-611624",
         "Broker Quote": "nan",
         "Invoice amount": "nan",
         "ETA": "09/17/21",
         "Delivery Date": "9/27/2021",
         "Transit Time": "17",
         "Status": "Delivered",
         "Unnamed: 14": "nan",
         "Unnamed: 15": "nan",
         "Unnamed: 16": "nan",
         "_deepnote_index_column": 68
        },
        {
         "SO#": "74886",
         "PO#": "2000736892",
         "Customer": "ROSS",
         "Destination / Zip Code": "CA, 92551",
         "Shipment Date": "2021-07-29T00:00:00.000000",
         "Carrier": "Glova - Link",
         "PRO# Wass": "nan",
         "PRO#": "1341695",
         "Broker Quote": "nan",
         "Invoice amount": "nan",
         "ETA": "08/02/21",
         "Delivery Date": "nan",
         "Transit Time": "06/01/78",
         "Status": "Delivered",
         "Unnamed: 14": "nan",
         "Unnamed: 15": "nan",
         "Unnamed: 16": "nan",
         "_deepnote_index_column": 41
        }
       ]
      },
      "text/plain": "              SO#             PO#      Customer Destination / Zip Code  \\\n9           74552      4502640620  Wasswerstrom              AZ, 85345   \n119  75462, 74993  314076, 324287         Bunzl              PA, 19020   \n55          75042          687542         Bunzl              NY, 12302   \n68          75235          540786         Bunzl              NJ, 08852   \n41          74886      2000736892          ROSS              CA, 92551   \n\n    Shipment Date       Carrier PRO# Wass        PRO# Broker Quote  \\\n9      2021-06-21      Reddaway       NaN  3012939825          NaN   \n119    2021-12-22        Conway       NaN  815-698634          NaN   \n55     2021-08-24  Ups Freight        NaN   874485931          NaN   \n68     2021-09-10        Conway       NaN  815-611624          NaN   \n41     2021-07-29  Glova - Link       NaN     1341695          NaN   \n\n     Invoice amount       ETA Delivery Date Transit Time      Status  \\\n9               NaN  06/23/21      06/22/21            1   Delivered   \n119             NaN  12/30/21     1/20/2022           29  Delivered    \n55              NaN  08/31/21     9/15/2021           22   Delivered   \n68              NaN  09/17/21     9/27/2021           17   Delivered   \n41              NaN  08/02/21           NaN     06/01/78   Delivered   \n\n     Unnamed: 14 Unnamed: 15 Unnamed: 16  \n9            NaN           2   Picked up  \n119          NaN         NaN         NaN  \n55           NaN         NaN         NaN  \n68           NaN         NaN         NaN  \n41           NaN         NaN         NaN  ",
      "text/html": "<div>\n<style scoped>\n    .dataframe tbody tr th:only-of-type {\n        vertical-align: middle;\n    }\n\n    .dataframe tbody tr th {\n        vertical-align: top;\n    }\n\n    .dataframe thead th {\n        text-align: right;\n    }\n</style>\n<table border=\"1\" class=\"dataframe\">\n  <thead>\n    <tr style=\"text-align: right;\">\n      <th></th>\n      <th>SO#</th>\n      <th>PO#</th>\n      <th>Customer</th>\n      <th>Destination / Zip Code</th>\n      <th>Shipment Date</th>\n      <th>Carrier</th>\n      <th>PRO# Wass</th>\n      <th>PRO#</th>\n      <th>Broker Quote</th>\n      <th>Invoice amount</th>\n      <th>ETA</th>\n      <th>Delivery Date</th>\n      <th>Transit Time</th>\n      <th>Status</th>\n      <th>Unnamed: 14</th>\n      <th>Unnamed: 15</th>\n      <th>Unnamed: 16</th>\n    </tr>\n  </thead>\n  <tbody>\n    <tr>\n      <th>9</th>\n      <td>74552</td>\n      <td>4502640620</td>\n      <td>Wasswerstrom</td>\n      <td>AZ, 85345</td>\n      <td>2021-06-21</td>\n      <td>Reddaway</td>\n      <td>NaN</td>\n      <td>3012939825</td>\n      <td>NaN</td>\n      <td>NaN</td>\n      <td>06/23/21</td>\n      <td>06/22/21</td>\n      <td>1</td>\n      <td>Delivered</td>\n      <td>NaN</td>\n      <td>2</td>\n      <td>Picked up</td>\n    </tr>\n    <tr>\n      <th>119</th>\n      <td>75462, 74993</td>\n      <td>314076, 324287</td>\n      <td>Bunzl</td>\n      <td>PA, 19020</td>\n      <td>2021-12-22</td>\n      <td>Conway</td>\n      <td>NaN</td>\n      <td>815-698634</td>\n      <td>NaN</td>\n      <td>NaN</td>\n      <td>12/30/21</td>\n      <td>1/20/2022</td>\n      <td>29</td>\n      <td>Delivered</td>\n      <td>NaN</td>\n      <td>NaN</td>\n      <td>NaN</td>\n    </tr>\n    <tr>\n      <th>55</th>\n      <td>75042</td>\n      <td>687542</td>\n      <td>Bunzl</td>\n      <td>NY, 12302</td>\n      <td>2021-08-24</td>\n      <td>Ups Freight</td>\n      <td>NaN</td>\n      <td>874485931</td>\n      <td>NaN</td>\n      <td>NaN</td>\n      <td>08/31/21</td>\n      <td>9/15/2021</td>\n      <td>22</td>\n      <td>Delivered</td>\n      <td>NaN</td>\n      <td>NaN</td>\n      <td>NaN</td>\n    </tr>\n    <tr>\n      <th>68</th>\n      <td>75235</td>\n      <td>540786</td>\n      <td>Bunzl</td>\n      <td>NJ, 08852</td>\n      <td>2021-09-10</td>\n      <td>Conway</td>\n      <td>NaN</td>\n      <td>815-611624</td>\n      <td>NaN</td>\n      <td>NaN</td>\n      <td>09/17/21</td>\n      <td>9/27/2021</td>\n      <td>17</td>\n      <td>Delivered</td>\n      <td>NaN</td>\n      <td>NaN</td>\n      <td>NaN</td>\n    </tr>\n    <tr>\n      <th>41</th>\n      <td>74886</td>\n      <td>2000736892</td>\n      <td>ROSS</td>\n      <td>CA, 92551</td>\n      <td>2021-07-29</td>\n      <td>Glova - Link</td>\n      <td>NaN</td>\n      <td>1341695</td>\n      <td>NaN</td>\n      <td>NaN</td>\n      <td>08/02/21</td>\n      <td>NaN</td>\n      <td>06/01/78</td>\n      <td>Delivered</td>\n      <td>NaN</td>\n      <td>NaN</td>\n      <td>NaN</td>\n    </tr>\n  </tbody>\n</table>\n</div>"
     },
     "metadata": {}
    }
   ]
  },
  {
   "cell_type": "markdown",
   "source": "### Test Cleaning up Columns",
   "metadata": {
    "formattedRanges": [],
    "is_collapsed": false,
    "cell_id": "4aaeccbc04ce4ad083e023c74e473a13",
    "tags": [],
    "deepnote_cell_type": "text-cell-h3"
   }
  },
  {
   "cell_type": "code",
   "metadata": {
    "cell_id": "d9754b14ae864978b41c35a7abee7ea6",
    "tags": [],
    "deepnote_to_be_reexecuted": false,
    "source_hash": "b9e315e3",
    "execution_start": 1659820243107,
    "execution_millis": 27,
    "deepnote_cell_type": "code",
    "deepnote_cell_height": 515.1875,
    "deepnote_output_heights": [
     405.1875
    ]
   },
   "source": "customers = set(shipments[\"Customer\"].str.strip())\ncustomers",
   "execution_count": null,
   "outputs": [
    {
     "output_type": "execute_result",
     "execution_count": 50,
     "data": {
      "text/plain": "{'Buccaneer',\n 'Bunzl',\n 'CDC',\n 'DOT IT',\n 'Ed Don',\n 'GMRI',\n 'ImperialDade',\n 'ImperialDale',\n 'Kinexo - McLane',\n 'Lineage',\n 'Lineage- Fort Worth',\n 'Lineage- Wilmington',\n 'Magid Glove',\n 'Mallory',\n 'ROSS',\n 'Ross',\n 'Spirit Mart',\n 'TriMark',\n 'Wasserstrom',\n 'Wasswerstrom',\n nan}"
     },
     "metadata": {}
    }
   ]
  },
  {
   "cell_type": "markdown",
   "source": "## Main Code",
   "metadata": {
    "formattedRanges": [],
    "is_collapsed": false,
    "cell_id": "c1373d0d95764af385140945678b8558",
    "tags": [],
    "deepnote_cell_type": "text-cell-h2"
   }
  },
  {
   "cell_type": "markdown",
   "source": "### General Data Cleaning & Model\nApply general cleaning procedures to `shipments` dataframe to:\n- remove whitespace\n- format dates\n    - handle inconcsistent date formats\n    - format to `datetime` object\n- handle missing data\n\n<hr>\n\nThe code above was getting messy trying to initialize everything with a dataframe. I think instead we can:\n1. create a `pydantic` model for an arbitrary `Shipment` instance of a shipment, then \n2. iterate through the `.csv` file and make each row a new instance of `Shipment()`\n    a. add each instance of `Shipment()` to a new `DataFrame`\n\nIn doing this, we'll see if we can make a `pydantic` model that is able to handle all the above cleaning tasks through its parsing operations",
   "metadata": {
    "cell_id": "7469d54cf34c4b0abd9e4297a5fd0651",
    "tags": [],
    "deepnote_cell_type": "markdown",
    "deepnote_cell_height": 429.796875
   }
  },
  {
   "cell_type": "markdown",
   "source": "Define adaptable date conversion function",
   "metadata": {
    "formattedRanges": [],
    "is_collapsed": false,
    "cell_id": "b1def3c2e308497a8bcb88a2e8f28698",
    "tags": [],
    "deepnote_cell_type": "text-cell-p"
   }
  },
  {
   "cell_type": "code",
   "metadata": {
    "cell_id": "fc3f9b13fa0c4429a4aaae05eec09d67",
    "tags": [],
    "deepnote_to_be_reexecuted": false,
    "source_hash": "74b71032",
    "execution_start": 1659921878250,
    "execution_millis": 5,
    "deepnote_cell_type": "code",
    "deepnote_cell_height": 441
   },
   "source": "def autoconvert_datetime(value, formats:list=['%m/%d/%Y','%m/%d/%y', '%m-%d-%y', '%d-%B', '%d %B'], additional_formats_to_try:list=[]):\n    \"\"\"An adaptable function to try taking in date strings for conversion to `datetime` objects.\n        Can take user-defined date formats either replacing defaults in `formats` \n        or by including extra formats in `additional_formats_to_try`\n    \"\"\"\n    formats.extend(additional_formats_to_try)    # all formats to try\n\n    result_format = '%Y-%m-%d'  # output format\n    \n    exception_ct = 0 # set a counter for exceptions\n    \n    # iterate through given formats to try converting to datetime\n    for dt_format in formats:\n        try:\n            dt_obj = dt.datetime.strptime(value, dt_format)\n            return str(dt_obj.strftime(result_format))\n        except Exception as e:  # throws exception when format doesn't match\n            exception_ct += 1\n            pass\n    #print(f\"Total number of exceptions: {exception_ct}\")\n    return value  # let it be if it doesn't match",
   "execution_count": null,
   "outputs": []
  },
  {
   "cell_type": "markdown",
   "source": "Define generalized function to import data",
   "metadata": {
    "formattedRanges": [],
    "is_collapsed": false,
    "cell_id": "26b0ce3ea89c4923a23c07c76347dff0",
    "tags": [],
    "deepnote_cell_type": "text-cell-p"
   }
  },
  {
   "cell_type": "code",
   "metadata": {
    "cell_id": "d2ebe261aed5481ca9725ce61910aa03",
    "tags": [],
    "deepnote_to_be_reexecuted": false,
    "source_hash": "3322d19e",
    "execution_start": 1659921883520,
    "execution_millis": 3,
    "deepnote_cell_type": "code",
    "deepnote_cell_height": 346
   },
   "source": "# generalized function to import data\ndef import_shipping_data(data_csv:str) -> pd.DataFrame:\n    date_cols:list = ['Shipment Date', 'ETA', 'Delivery Date']\n    valid_cols:list = ['SO#', 'PO#', 'Customer', 'Destination / Zip Code', 'Shipment Date', \n                        'Carrier', 'PRO# Wass', 'PRO#', 'Broker Quote', 'Invoice amount', \n                        'ETA','Delivery Date', 'Transit Time', 'Status'\n                        ]\n\n    shipments_df = (pd.read_csv(data_csv, usecols=valid_cols)\n                    .fillna(\"Not Entered\")\n                    .replace(\"ASAP\",\"Not Entered\")\n                )\n    for c in date_cols:\n        shipments_df[c] = shipments_df[c].apply(autoconvert_datetime)\n    \n    return shipments_df",
   "execution_count": null,
   "outputs": []
  },
  {
   "cell_type": "markdown",
   "source": "Import Data",
   "metadata": {
    "formattedRanges": [
     {
      "fromCodePoint": 0,
      "toCodePoint": 11,
      "marks": {
       "bold": true
      }
     }
    ],
    "is_collapsed": false,
    "cell_id": "c6b6fdcd6e17471590b5e38fa70a25a7",
    "tags": [],
    "deepnote_cell_type": "text-cell-p"
   }
  },
  {
   "cell_type": "code",
   "metadata": {
    "cell_id": "9a7526428e344f14b6c10708bc35f7a8",
    "tags": [],
    "deepnote_to_be_reexecuted": false,
    "source_hash": "2ff3cf0e",
    "execution_start": 1659921898138,
    "execution_millis": 27,
    "deepnote_cell_type": "code",
    "deepnote_cell_height": 76
   },
   "source": "shipments = import_shipping_data('./Data/Freight_Tracking.csv')",
   "execution_count": null,
   "outputs": []
  },
  {
   "cell_type": "code",
   "metadata": {
    "cell_id": "e68a832335234d29a3cdd4cc392bfe64",
    "tags": [],
    "deepnote_to_be_reexecuted": false,
    "source_hash": "25a92b2",
    "execution_start": 1659922661470,
    "execution_millis": 2,
    "deepnote_cell_type": "code",
    "deepnote_cell_height": 170.78125,
    "deepnote_output_heights": [
     78.796875
    ]
   },
   "source": "shipments.columns",
   "execution_count": null,
   "outputs": [
    {
     "output_type": "execute_result",
     "execution_count": 117,
     "data": {
      "text/plain": "Index(['SO#', 'PO#', 'Customer', 'Destination / Zip Code', 'Shipment Date',\n       'Carrier', 'PRO# Wass', 'PRO#', 'Broker Quote', 'Invoice amount', 'ETA',\n       'Delivery Date', 'Transit Time', 'Status'],\n      dtype='object')"
     },
     "metadata": {}
    }
   ]
  },
  {
   "cell_type": "markdown",
   "source": "#### Initial `Pydantic` Model for `Shipment` Class",
   "metadata": {
    "cell_id": "bab3f823b21b42288391966ed7a44cdc",
    "tags": [],
    "deepnote_cell_type": "markdown",
    "deepnote_cell_height": 54.796875
   }
  },
  {
   "cell_type": "markdown",
   "source": "Determine valid PO# lengths",
   "metadata": {
    "formattedRanges": [],
    "is_collapsed": false,
    "cell_id": "b2593dc21c0543b999d6c008ef4b8cf5",
    "tags": [],
    "deepnote_cell_type": "text-cell-p"
   }
  },
  {
   "cell_type": "code",
   "metadata": {
    "cell_id": "6a713d2632b44085976a355666729e39",
    "tags": [],
    "deepnote_to_be_reexecuted": false,
    "source_hash": "67f86061",
    "execution_start": 1659919911856,
    "execution_millis": 2,
    "is_code_hidden": true,
    "is_output_hidden": true,
    "deepnote_cell_type": "code",
    "deepnote_cell_height": 105.59375
   },
   "source": "l = []\nfor i in range(len(shipments)):\n    l.append(len(shipments[\"PO#\"][i]))\nx = set(l)\nprint(x)\nfor j in x:\n    print(f\"Valid PO# length: {j}\")",
   "execution_count": null,
   "outputs": [
    {
     "name": "stdout",
     "text": "{5, 6, 7, 8, 9, 10, 11, 12, 13, 14}\nValid PO# length: 5\nValid PO# length: 6\nValid PO# length: 7\nValid PO# length: 8\nValid PO# length: 9\nValid PO# length: 10\nValid PO# length: 11\nValid PO# length: 12\nValid PO# length: 13\nValid PO# length: 14\n",
     "output_type": "stream"
    }
   ]
  },
  {
   "cell_type": "code",
   "metadata": {
    "cell_id": "0fd92c48ba284b6ab0d24b524ec0f9c9",
    "tags": [],
    "deepnote_to_be_reexecuted": false,
    "source_hash": "a1aa7ace",
    "execution_start": 1659922053576,
    "execution_millis": 4,
    "deepnote_cell_type": "code",
    "deepnote_cell_height": 634
   },
   "source": "from datetime import date, datetime, time, timedelta\nclass Shipment(pydantic.BaseModel):\n    SO_num: str      # internal shipment order nmber\n    PO_num: str      # Product order number (tracking number generated by vendor)\n    customer: str    # customer name\n    carrier: str     # carrier (shipping vendor) name\n    destination: str # where the shipment is going\n    shipped_date: date # date the package was shipped\n    eta: Optional[date] = None # date the package is expected to arrive\n    delivered_date: Optional[date] = None\n    transit_time: Optional[int] = None\n    status: str = \"In-Transit\"\n\n    @pydantic.validator(\"PO_num\") # may refine this once I understand PO# formats required for each carrier\n    @classmethod\n    def valid_PO_num(cls, value):\n        chars = [c for c in value if c in \"0123456789ABCDEFGHIJKLMNOPQRSTUVWXYZ-\"]\n        invalid_chars = [i for i in value if i not in \"0123456789ABCDEFGHIJKLMNOPQRSTUVWXYZ-\"]\n        \n        if value in [None, \"Not Entered\", np.nan]:\n            raise MissingPOError(value=value, message=message)\n        \n        elif len(chars) not in [5, 6, 7, 8, 9, 10, 11, 12, 13, 14]:\n            raise InvalidPOError(value=value, message=\"PO number given is not valid\")\n\n    @pydantic.validator(\"carrier\") # may refine this once I understand PO# formats required for each carrier\n    @classmethod\n    def validate_carrier(cls,value):\n        \n    \n    \n    #def calculate_transit_time(self, self.shipped_date,self.)",
   "execution_count": null,
   "outputs": []
  },
  {
   "cell_type": "code",
   "metadata": {
    "cell_id": "bba7de170c114b53a5f2092f5d661cf5",
    "tags": [],
    "deepnote_to_be_reexecuted": false,
    "source_hash": "728e8f77",
    "execution_start": 1659922370066,
    "execution_millis": 1,
    "deepnote_cell_type": "code",
    "deepnote_cell_height": 202
   },
   "source": "s1 = Shipment(\n    SO_num = \"121334\",\n    PO_num = \"123456\",\n    customer = \"Perkins\",\n    destination = \"MN, 55433\",\n    shipped_date = '2022-01-09',\n    delivered_date = '2022-01-14'\n)",
   "execution_count": null,
   "outputs": []
  },
  {
   "cell_type": "code",
   "metadata": {
    "cell_id": "faee7065af3e45a6bc36241b405db2eb",
    "tags": [],
    "deepnote_to_be_reexecuted": false,
    "source_hash": "3dd01717",
    "execution_start": 1659922580309,
    "execution_millis": 6,
    "deepnote_cell_type": "code",
    "deepnote_cell_height": 213.984375,
    "deepnote_output_heights": [
     null,
     21.1875
    ]
   },
   "source": "td = s1.delivered_date - s1.shipped_date\nx = int(str(td).split(\" \")[0])\nprint(x)\ntype(x)",
   "execution_count": null,
   "outputs": [
    {
     "name": "stdout",
     "text": "5\n",
     "output_type": "stream"
    },
    {
     "output_type": "execute_result",
     "execution_count": 116,
     "data": {
      "text/plain": "int"
     },
     "metadata": {}
    }
   ]
  },
  {
   "cell_type": "markdown",
   "source": "Create error subclasses",
   "metadata": {
    "formattedRanges": [],
    "is_collapsed": false,
    "cell_id": "bad0d8446c9a43a8833620f54c72a616",
    "tags": [],
    "deepnote_cell_type": "text-cell-p"
   }
  },
  {
   "cell_type": "code",
   "metadata": {
    "cell_id": "c1500f405a2c484c8d28979d82e6dd3e",
    "tags": [],
    "deepnote_to_be_reexecuted": false,
    "source_hash": "383eabdd",
    "execution_start": 1659920048090,
    "execution_millis": 0,
    "deepnote_cell_type": "code",
    "deepnote_cell_height": 292
   },
   "source": "class InvalidPOError(Exception):\n    \"\"\"custom error that is raised whe PO# contains invalid characters or is not one of the pre-approved formats or lengths\"\"\"\n    def __init__(self,value:str, message:str) -> None:\n        self.value = value\n        self.message = message\n        super().init(message)\n\nclass MissingPOError(POnumValidationError):\n    def __init__(self,value:str, message:str) -> None:\n        self.value = value\n        self.message = \"PO# was not entered! Please go back and enter PO# for this shipment\"\n        super().init(message)\n",
   "execution_count": null,
   "outputs": []
  },
  {
   "cell_type": "code",
   "metadata": {
    "cell_id": "317cff4623134bc5b081000cad5f5935",
    "tags": [],
    "deepnote_to_be_reexecuted": false,
    "source_hash": "62b5bb1f",
    "execution_start": 1659918115313,
    "execution_millis": 10,
    "deepnote_cell_type": "code",
    "deepnote_cell_height": 149.1875,
    "deepnote_output_heights": [
     21.1875
    ]
   },
   "source": "value = shipments['PO#'][8]\nchars = [c for c in value if c in \"0123456789ABCDEFGHIJKLMNOPQRSTUVWXYZ-\"]\nchars",
   "execution_count": null,
   "outputs": [
    {
     "output_type": "execute_result",
     "execution_count": 32,
     "data": {
      "text/plain": "['S', '1', '2', '2', '0', '2', '3', '4']"
     },
     "metadata": {}
    }
   ]
  },
  {
   "cell_type": "markdown",
   "source": "Further clean up and format columns `shipments` dataframe to create global variables for each column that will be used as input/dataclass options later",
   "metadata": {
    "cell_id": "088562cfa8e345888c170cce22d8c978",
    "tags": [],
    "deepnote_cell_type": "markdown",
    "deepnote_cell_height": 74.796875
   }
  },
  {
   "cell_type": "markdown",
   "source": "## Dashboard (End User Interface)",
   "metadata": {
    "formattedRanges": [],
    "is_collapsed": false,
    "cell_id": "9c00bc2005b0422e95515c3739b08398",
    "tags": [],
    "deepnote_cell_type": "text-cell-h2"
   }
  },
  {
   "cell_type": "markdown",
   "source": "### Global Variables",
   "metadata": {
    "formattedRanges": [],
    "is_collapsed": false,
    "cell_id": "c7eb736a547b4dd19c34faea680b4464",
    "tags": [],
    "deepnote_cell_type": "text-cell-h3"
   }
  },
  {
   "cell_type": "code",
   "metadata": {
    "cell_id": "19636811fae2409baa19c578d08f4d8c",
    "tags": [],
    "deepnote_to_be_reexecuted": false,
    "source_hash": "20874d1b",
    "execution_start": 1659922877137,
    "execution_millis": 6,
    "deepnote_cell_type": "code",
    "deepnote_cell_height": 130.59375
   },
   "source": "carriers = list(set(shipments['Carrier']))\nprint(carriers)",
   "execution_count": null,
   "outputs": [
    {
     "name": "stdout",
     "text": "['Road Runner ', 'Roadrunner ', 'Central Transport', 'Conway ', 'T Force', 'Frontline', 'ABF', 'DHE', 'Saia', 'Roadrunner', 'Best Yet', 'XPO', 'SAIA', 'YRC', 'Ups Freight ', 'ESTES', 'Oak Harbor ', 'Conway', 'Reddaway', 'Estes', 'Tforce', 'Old Dominion', 'Hercules', 'R&L', 'Glova - Link', 'R&L ', 'Central Freight']\n",
     "output_type": "stream"
    }
   ]
  },
  {
   "cell_type": "code",
   "metadata": {
    "cell_id": "f0664ac5497a4798a144c613151b166f",
    "tags": [],
    "deepnote_cell_type": "code",
    "deepnote_cell_height": 61
   },
   "source": "",
   "execution_count": null,
   "outputs": []
  },
  {
   "cell_type": "markdown",
   "source": "### Set up Interface Elements",
   "metadata": {
    "formattedRanges": [],
    "is_collapsed": false,
    "cell_id": "5b959beea2d14465af1f6b17a2594b06",
    "tags": [],
    "deepnote_cell_type": "text-cell-h3"
   }
  },
  {
   "cell_type": "code",
   "metadata": {
    "cell_id": "a1734e73a26745e7a5591645c37e8021",
    "deepnote_variable_name": "po_input",
    "deepnote_variable_value": "",
    "deepnote_to_be_reexecuted": false,
    "source_hash": "7617e369",
    "execution_start": 1659817739267,
    "execution_millis": 1,
    "deepnote_cell_type": "input-text"
   },
   "source": "po_input = ''",
   "execution_count": null,
   "outputs": []
  },
  {
   "cell_type": "code",
   "metadata": {
    "cell_id": "ba2204cbe306432abc99b27ba82cf3b1",
    "deepnote_variable_name": "customer_select",
    "deepnote_variable_value": "",
    "deepnote_variable_options": [],
    "deepnote_variable_custom_options": [
     "Option 1",
     "Option 2"
    ],
    "deepnote_variable_selected_variable": "",
    "deepnote_variable_select_type": "from-variable",
    "deepnote_to_be_reexecuted": false,
    "source_hash": "7192c494",
    "execution_start": 1659817811182,
    "execution_millis": 0,
    "deepnote_cell_type": "input-select"
   },
   "source": "customer_select = ''",
   "execution_count": null,
   "outputs": []
  },
  {
   "cell_type": "code",
   "metadata": {
    "cell_id": "bd0a250ef05e4c73ad6315548fd3ef81",
    "deepnote_variable_name": "carrier_select",
    "deepnote_variable_value": "",
    "deepnote_variable_options": [],
    "deepnote_variable_custom_options": [],
    "deepnote_variable_selected_variable": "",
    "deepnote_variable_select_type": "from-variable",
    "deepnote_to_be_reexecuted": false,
    "source_hash": "9aa0d842",
    "execution_start": 1659817818836,
    "execution_millis": 1,
    "deepnote_cell_type": "input-select"
   },
   "source": "carrier_select = ''",
   "execution_count": null,
   "outputs": []
  },
  {
   "cell_type": "code",
   "metadata": {
    "cell_id": "1b6a3749e5784503afc71ca1d7e42e6c",
    "deepnote_variable_name": "eta_input",
    "deepnote_variable_value": "2022-08-06T07:00:00.000Z",
    "deepnote_to_be_reexecuted": false,
    "source_hash": "3ed73673",
    "execution_start": 1659817723750,
    "execution_millis": 0,
    "deepnote_cell_type": "input-date"
   },
   "source": "\nfrom datetime import datetime as _deepnote_datetime\neta_input = _deepnote_datetime.strptime('2022-08-06T07:00:00.000Z', \"%Y-%m-%dT%H:%M:%S.%fZ\")\n",
   "execution_count": null,
   "outputs": []
  },
  {
   "cell_type": "code",
   "metadata": {
    "cell_id": "1d2ca8cd13954b57ae77a4d79d1d4e1b",
    "deepnote_variable_name": "add_valid_carrier",
    "deepnote_variable_value": "USPS",
    "deepnote_to_be_reexecuted": false,
    "source_hash": "b7824620",
    "execution_start": 1659922978093,
    "execution_millis": 6,
    "deepnote_cell_type": "input-text"
   },
   "source": "add_valid_carrier = 'USPS'",
   "execution_count": null,
   "outputs": []
  },
  {
   "cell_type": "code",
   "metadata": {
    "cell_id": "1b4cabe83e00446ca4ad32edd95f81a9",
    "deepnote_variable_name": "new_carrier_url",
    "deepnote_variable_value": "",
    "deepnote_to_be_reexecuted": false,
    "source_hash": "df3ab3ef",
    "execution_start": 1659970057930,
    "execution_millis": 44,
    "deepnote_cell_type": "input-text"
   },
   "source": "new_carrier_url = ''",
   "execution_count": null,
   "outputs": []
  },
  {
   "cell_type": "code",
   "metadata": {
    "cell_id": "dd7141282e2246e890d244cbae61e529",
    "tags": [],
    "deepnote_to_be_reexecuted": false,
    "source_hash": "ec74f876",
    "execution_start": 1659922984841,
    "execution_millis": 8,
    "deepnote_cell_type": "code",
    "deepnote_cell_height": 130.59375
   },
   "source": "carriers.append(add_valid_carrier)\nprint(carriers)",
   "execution_count": null,
   "outputs": [
    {
     "name": "stdout",
     "text": "['Road Runner ', 'Roadrunner ', 'Central Transport', 'Conway ', 'T Force', 'Frontline', 'ABF', 'DHE', 'Saia', 'Roadrunner', 'Best Yet', 'XPO', 'SAIA', 'YRC', 'Ups Freight ', 'ESTES', 'Oak Harbor ', 'Conway', 'Reddaway', 'Estes', 'Tforce', 'Old Dominion', 'Hercules', 'R&L', 'Glova - Link', 'R&L ', 'Central Freight', 'USPS']\n",
     "output_type": "stream"
    }
   ]
  },
  {
   "cell_type": "markdown",
   "source": "<a style='text-decoration:none;line-height:16px;display:flex;color:#5B5B62;padding:10px;justify-content:end;' href='https://deepnote.com?utm_source=created-in-deepnote-cell&projectId=23421d57-1fd0-41ae-ba7e-62fc693f5e69' target=\"_blank\">\n<img alt='Created in deepnote.com' style='display:inline;max-height:16px;margin:0px;margin-right:7.5px;' src='data:image/svg+xml;base64,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' > </img>\nCreated in <span style='font-weight:600;margin-left:4px;'>Deepnote</span></a>",
   "metadata": {
    "tags": [],
    "created_in_deepnote_cell": true,
    "deepnote_cell_type": "markdown"
   }
  }
 ],
 "nbformat": 4,
 "nbformat_minor": 2,
 "metadata": {
  "orig_nbformat": 2,
  "deepnote": {
   "is_reactive": false
  },
  "deepnote_notebook_id": "36cd2e1f-1a22-4b52-9753-db8aa7e0c99a",
  "deepnote_app_layout": "article",
  "deepnote_execution_queue": []
 }
}