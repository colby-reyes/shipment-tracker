{
 "cells": [
  {
   "cell_type": "markdown",
   "source": "# Shipment Tracking \nA Pipeline & Dashboard to track shipments sent through multiple vendors <hr>\n\nKey Project Elements:\n- Deepnote Dashboard elements for intaking data from *end user*\n- API interaction and (probably) web scraping to fetch shipment status from vendor site \n- `pydantic` for data validation of shipment information\n- read and write to `.csv` for data permanence\n    - afterward may include `Great Expectations` to track data quality",
   "metadata": {
    "tags": [],
    "cell_id": "00000-85c6538f-6aaa-427b-9eda-29fdacf56457",
    "deepnote_cell_type": "markdown",
    "deepnote_cell_height": 323.796875
   }
  },
  {
   "cell_type": "markdown",
   "source": "## Setup",
   "metadata": {
    "formattedRanges": [],
    "is_collapsed": false,
    "cell_id": "f083506dabeb469ab24d4f8871b107de",
    "tags": [],
    "deepnote_cell_type": "text-cell-h2"
   }
  },
  {
   "cell_type": "markdown",
   "source": "### Resources\n- [Python API Tutorial](https://www.dataquest.io/blog/python-api-tutorial/)\n- [`BeautifulSoup4` Documentation](https://pypi.org/project/beautifulsoup4/)\n    - [Tutorial](https://realpython.com/beautiful-soup-web-scraper-python/) on getting started with `bs4`\n- [How to](https://pandas.pydata.org/docs/reference/api/pandas.DataFrame.append.html) append rows to a `pandas` dataframe\n- [`Pydantic` Documentation](https://pydantic-docs.helpmanual.io/)\n- [`Great Expectations` tutorial](https://towardsdatascience.com/monitoring-data-quality-in-a-data-lake-using-great-expectations-and-allure-built-serverless-47fa1791af6a)",
   "metadata": {
    "cell_id": "237e3b1f0d23459c831ec978ac191b4f",
    "tags": [],
    "deepnote_cell_type": "markdown",
    "deepnote_cell_height": 252.390625
   }
  },
  {
   "cell_type": "markdown",
   "source": "### Import statements",
   "metadata": {
    "tags": [],
    "cell_id": "00002-409d4826-9fc0-469a-961d-2ed83bc0a7c7",
    "deepnote_cell_type": "markdown",
    "deepnote_cell_height": 62
   }
  },
  {
   "cell_type": "code",
   "metadata": {
    "tags": [],
    "cell_id": "00000-e170fae0-7e06-4a7a-85f3-343584ec4b94",
    "deepnote_to_be_reexecuted": false,
    "source_hash": "981af1a5",
    "execution_start": 1659916172126,
    "execution_millis": 281,
    "deepnote_app_coordinates": {
     "x": 0,
     "y": 6,
     "w": 12,
     "h": 5
    },
    "deepnote_cell_type": "code",
    "deepnote_cell_height": 287.796875
   },
   "source": "import pandas as pd\nimport numpy as np\nfrom bs4 import BeautifulSoup as bs4\nimport json\nimport requests as re\nimport datetime as dt\nimport pydantic\nfrom typing import Optional\nimport warnings\nwarnings.filterwarnings(\"ignore\", category=DeprecationWarning)\nprint(\"All packages imported successfully\")",
   "execution_count": null,
   "outputs": [
    {
     "name": "stdout",
     "text": "All packages imported successfully\n",
     "output_type": "stream"
    }
   ]
  },
  {
   "cell_type": "markdown",
   "source": "### Initialize Data\nimport original data from `.csv`",
   "metadata": {
    "cell_id": "9a364be33ce64429ba6ff47bd977c36b",
    "tags": [],
    "deepnote_cell_type": "markdown",
    "deepnote_cell_height": 100.390625
   }
  },
  {
   "cell_type": "code",
   "metadata": {
    "cell_id": "7a1d776c5f734ee2b1a39f6871d4f8fe",
    "tags": [],
    "deepnote_to_be_reexecuted": false,
    "source_hash": "ba984be9",
    "execution_start": 1659905334361,
    "execution_millis": 4,
    "deepnote_cell_type": "code",
    "deepnote_cell_height": 125.796875
   },
   "source": "x = dt.date(2022, 8, 1)\nprint(x)",
   "execution_count": null,
   "outputs": [
    {
     "name": "stdout",
     "text": "2022-08-01\n",
     "output_type": "stream"
    }
   ]
  },
  {
   "cell_type": "code",
   "metadata": {
    "tags": [],
    "cell_id": "00007-f83d8057-e00a-4808-a961-c914bf434185",
    "deepnote_to_be_reexecuted": false,
    "source_hash": "48ed323f",
    "execution_start": 1659915233347,
    "execution_millis": 70,
    "allow_embed": true,
    "owner_user_id": "a91131d5-3a8f-4ab6-899b-8a84e0fa5269",
    "deepnote_table_state": {
     "pageSize": 10,
     "pageIndex": 1,
     "filters": [],
     "sortBy": []
    },
    "deepnote_table_loading": false,
    "deepnote_cell_type": "code",
    "deepnote_cell_height": 832,
    "deepnote_output_heights": [
     290
    ]
   },
   "source": "date_cols:list = ['Shipment Date', 'ETA', 'Delivery Date']\nnew_date_cols:list = ['shipped_date', 'eta_date', 'delivered_date']\n\ndef autoconvert_datetime(value):\n    formats = ['%m/%d/%Y','%m/%d/%y', '%m-%d-%y', '%d-%B', '%d %B']  # formats to try\n    result_format = '%Y-%m-%d'  # output format\n    exception_ct = 0\n    for dt_format in formats:\n        try:\n            dt_obj = dt.datetime.strptime(value, dt_format)\n            return dt_obj.strftime(result_format)\n        except Exception as e:  # throws exception when format doesn't match\n            exception_ct += 1\n            pass\n    #print(f\"Total number of exceptions: {exception_ct}\")\n    return value  # let it be if it doesn't match\n\n\nshipments = (pd.read_csv('./Data/Freight_Tracking.csv')\n                .drop(columns=['Unnamed: 14', 'Unnamed: 15', 'Unnamed: 16'])\n                .fillna(\"Not Entered\")\n                .replace(\"ASAP\",\"Not Entered\")\n            )\nfor c in date_cols:\n    shipments[c] = shipments[c].apply(autoconvert_datetime)\nshipments.isnull().sum()",
   "execution_count": null,
   "outputs": [
    {
     "output_type": "execute_result",
     "execution_count": 186,
     "data": {
      "text/plain": "SO#                       0\nPO#                       0\nCustomer                  0\nDestination / Zip Code    0\nShipment Date             0\nCarrier                   0\nPRO# Wass                 0\nPRO#                      0\nBroker Quote              0\nInvoice amount            0\nETA                       0\nDelivery Date             0\nTransit Time              0\nStatus                    0\ndtype: int64"
     },
     "metadata": {}
    }
   ]
  },
  {
   "cell_type": "code",
   "source": "shipments.sample(5)",
   "metadata": {
    "cell_id": "1d30f5fe05524f4c90a0f4c32944010a",
    "tags": [],
    "deepnote_to_be_reexecuted": false,
    "source_hash": "b249a3ee",
    "execution_start": 1659915242209,
    "execution_millis": 807,
    "output_cleared": true,
    "deepnote_cell_type": "code",
    "deepnote_cell_height": 76
   },
   "execution_count": null,
   "outputs": []
  },
  {
   "cell_type": "code",
   "metadata": {
    "cell_id": "ebf2a45c85b94ef49f71cb54b1532e99",
    "tags": [],
    "deepnote_to_be_reexecuted": false,
    "source_hash": "233e6dae",
    "execution_start": 1659915150244,
    "execution_millis": 675,
    "deepnote_cell_type": "code",
    "deepnote_cell_height": 149.1875,
    "deepnote_output_heights": [
     21.1875
    ]
   },
   "source": "d = shipments.ETA[1]\ndt.datetime.strptime(d, '%m/%d/%y')\nautoconvert_datetime(d)",
   "execution_count": null,
   "outputs": [
    {
     "output_type": "execute_result",
     "execution_count": 183,
     "data": {
      "text/plain": "'2021-06-17'"
     },
     "metadata": {}
    }
   ]
  },
  {
   "cell_type": "code",
   "metadata": {
    "cell_id": "5b1b7eafc35d4d68b6545145cbeb79cc",
    "tags": [],
    "deepnote_to_be_reexecuted": false,
    "source_hash": "7a15d2ed",
    "execution_start": 1659914615793,
    "execution_millis": 174,
    "deepnote_cell_type": "code",
    "deepnote_cell_height": 517.796875
   },
   "source": "date_cols:list = ['Shipment Date', 'ETA', 'Delivery Date']\nnew_date_cols:list = ['shipped_date', 'eta_date', 'delivered_date']\n\ndef autoconvert_datetime(value):\n    formats = ['%m/%d/%Y','%m/%d/%y', '%m-%d-%y', '%d-%B', '%d %B']  # formats to try\n    result_format = '%d-%m-%Y'  # output format\n    exception_ct = 0\n    for dt_format in formats:\n        try:\n            dt_obj = dt.datetime.strptime(value, dt_format)\n            return dt_obj.strftime(result_format)\n        except Exception as e:  # throws exception when format doesn't match\n            exception_ct += 1\n            pass\n    #print(f\"Total number of exceptions: {exception_ct}\")\n    return value  # let it be if it doesn't match\n\nshipments['ETA'] = shipments['ETA'].apply(autoconvert_datetime)",
   "execution_count": null,
   "outputs": [
    {
     "name": "stdout",
     "text": "Total number of exceptions: 5\nTotal number of exceptions: 5\nTotal number of exceptions: 5\nTotal number of exceptions: 5\nTotal number of exceptions: 5\nTotal number of exceptions: 5\n",
     "output_type": "stream"
    }
   ]
  },
  {
   "cell_type": "code",
   "source": "shipments",
   "metadata": {
    "cell_id": "8cb5f43fe39e474db563711a47015e25",
    "tags": [],
    "deepnote_to_be_reexecuted": false,
    "source_hash": "a79831a3",
    "execution_start": 1659914639498,
    "execution_millis": 6,
    "deepnote_table_state": {
     "pageSize": 10,
     "pageIndex": 0,
     "filters": [],
     "sortBy": []
    },
    "deepnote_table_loading": false,
    "output_cleared": true,
    "deepnote_cell_type": "code",
    "deepnote_cell_height": 76
   },
   "execution_count": null,
   "outputs": []
  },
  {
   "cell_type": "code",
   "metadata": {
    "cell_id": "fa3ad9b18ed54174b681c04a691f364a",
    "tags": [],
    "deepnote_to_be_reexecuted": false,
    "source_hash": "70b59595",
    "execution_start": 1659911111216,
    "execution_millis": 508,
    "deepnote_cell_type": "code",
    "deepnote_cell_height": 439.578125,
    "deepnote_output_heights": [
     347.59375
    ]
   },
   "source": "shipments.isnull().sum()",
   "execution_count": null,
   "outputs": [
    {
     "output_type": "execute_result",
     "execution_count": 136,
     "data": {
      "text/plain": "SO#                       0\nPO#                       0\nCustomer                  0\nDestination / Zip Code    0\nShipment Date             0\nCarrier                   0\nPRO# Wass                 0\nPRO#                      0\nBroker Quote              0\nInvoice amount            0\nETA                       0\nDelivery Date             0\nTransit Time              0\nStatus                    0\nshipped_date              0\neta_date                  0\ndelivered_date            0\ndtype: int64"
     },
     "metadata": {}
    }
   ]
  },
  {
   "cell_type": "code",
   "metadata": {
    "cell_id": "65eeb512692341689fd95dbc03c0e182",
    "tags": [],
    "deepnote_to_be_reexecuted": false,
    "source_hash": "eaf8fd03",
    "execution_start": 1659820125069,
    "execution_millis": 3,
    "deepnote_cell_type": "code",
    "deepnote_cell_height": 572.78125,
    "deepnote_output_heights": [
     462.796875
    ]
   },
   "source": "x = set(shipments.Customer)\nx",
   "execution_count": null,
   "outputs": [
    {
     "output_type": "execute_result",
     "execution_count": 48,
     "data": {
      "text/plain": "{'Buccaneer',\n 'Bunzl',\n 'Bunzl ',\n 'CDC',\n 'DOT IT',\n 'Ed Don',\n 'GMRI',\n 'ImperialDade',\n 'ImperialDale',\n 'Kinexo - McLane',\n 'Lineage',\n 'Lineage ',\n 'Lineage- Fort Worth',\n 'Lineage- Wilmington',\n 'Magid Glove ',\n 'Mallory',\n 'ROSS',\n 'Ross',\n 'Spirit Mart ',\n 'TriMark',\n 'Wasserstrom',\n 'Wasserstrom ',\n 'Wasswerstrom',\n nan}"
     },
     "metadata": {}
    }
   ]
  },
  {
   "cell_type": "code",
   "metadata": {
    "cell_id": "c7605c96faff444498f86e3efa968597",
    "tags": [],
    "deepnote_to_be_reexecuted": false,
    "source_hash": "684aa937",
    "execution_start": 1659819915802,
    "execution_millis": 24,
    "deepnote_cell_type": "code",
    "deepnote_cell_height": 76
   },
   "source": "shipments[\"Shipment Date\"] = pd.to_datetime(shipments[\"Shipment Date\"])",
   "execution_count": null,
   "outputs": []
  },
  {
   "cell_type": "code",
   "metadata": {
    "cell_id": "f51acdd23df545a39494a960a843cc59",
    "tags": [],
    "deepnote_to_be_reexecuted": false,
    "source_hash": "d23e3ad9",
    "execution_start": 1659819929847,
    "execution_millis": 1,
    "deepnote_cell_type": "code",
    "deepnote_cell_height": 439.578125,
    "deepnote_output_heights": [
     347.59375
    ]
   },
   "source": "shipments.dtypes",
   "execution_count": null,
   "outputs": [
    {
     "output_type": "execute_result",
     "execution_count": 43,
     "data": {
      "text/plain": "SO#                               object\nPO#                               object\nCustomer                          object\nDestination / Zip Code            object\nShipment Date             datetime64[ns]\nCarrier                           object\nPRO# Wass                         object\nPRO#                              object\nBroker Quote                      object\nInvoice amount                   float64\nETA                               object\nDelivery Date                     object\nTransit Time                      object\nStatus                            object\nUnnamed: 14                      float64\nUnnamed: 15                       object\nUnnamed: 16                       object\ndtype: object"
     },
     "metadata": {}
    }
   ]
  },
  {
   "cell_type": "code",
   "source": "shipments.sample(5)",
   "metadata": {
    "cell_id": "15aa0bab934347a78730d55fe176d9ef",
    "tags": [],
    "deepnote_to_be_reexecuted": false,
    "source_hash": "b249a3ee",
    "execution_start": 1659819945968,
    "execution_millis": 61,
    "output_cleared": true,
    "deepnote_cell_type": "code",
    "deepnote_cell_height": 390
   },
   "execution_count": null,
   "outputs": []
  },
  {
   "cell_type": "markdown",
   "source": "### Test Cleaning up Columns",
   "metadata": {
    "formattedRanges": [],
    "is_collapsed": false,
    "cell_id": "4aaeccbc04ce4ad083e023c74e473a13",
    "tags": [],
    "deepnote_cell_type": "text-cell-h3"
   }
  },
  {
   "cell_type": "code",
   "metadata": {
    "cell_id": "d9754b14ae864978b41c35a7abee7ea6",
    "tags": [],
    "deepnote_to_be_reexecuted": false,
    "source_hash": "b9e315e3",
    "execution_start": 1659820243107,
    "execution_millis": 27,
    "deepnote_cell_type": "code",
    "deepnote_cell_height": 515.1875,
    "deepnote_output_heights": [
     405.1875
    ]
   },
   "source": "customers = set(shipments[\"Customer\"].str.strip())\ncustomers",
   "execution_count": null,
   "outputs": [
    {
     "output_type": "execute_result",
     "execution_count": 50,
     "data": {
      "text/plain": "{'Buccaneer',\n 'Bunzl',\n 'CDC',\n 'DOT IT',\n 'Ed Don',\n 'GMRI',\n 'ImperialDade',\n 'ImperialDale',\n 'Kinexo - McLane',\n 'Lineage',\n 'Lineage- Fort Worth',\n 'Lineage- Wilmington',\n 'Magid Glove',\n 'Mallory',\n 'ROSS',\n 'Ross',\n 'Spirit Mart',\n 'TriMark',\n 'Wasserstrom',\n 'Wasswerstrom',\n nan}"
     },
     "metadata": {}
    }
   ]
  },
  {
   "cell_type": "markdown",
   "source": "## Main Code",
   "metadata": {
    "formattedRanges": [],
    "is_collapsed": false,
    "cell_id": "c1373d0d95764af385140945678b8558",
    "tags": [],
    "deepnote_cell_type": "text-cell-h2"
   }
  },
  {
   "cell_type": "markdown",
   "source": "### General Data Cleaning & Model\nApply general cleaning procedures to `shipments` dataframe to:\n- remove whitespace\n- format dates\n    - handle inconcsistent date formats\n    - format to `datetime` object\n- handle missing data\n\n<hr>\n\nThe code above was getting messy trying to initialize everything with a dataframe. I think instead we can:\n1. create a `pydantic` model for an arbitrary `Shipment` instance of a shipment, then \n2. iterate through the `.csv` file and make each row a new instance of `Shipment()`\n    a. add each instance of `Shipment()` to a new `DataFrame`\n\nIn doing this, we'll see if we can make a `pydantic` model that is able to handle all the above cleaning tasks through its parsing operations",
   "metadata": {
    "cell_id": "7469d54cf34c4b0abd9e4297a5fd0651",
    "tags": [],
    "deepnote_cell_type": "markdown",
    "deepnote_cell_height": 429.796875
   }
  },
  {
   "cell_type": "markdown",
   "source": "Define adaptable date conversion function",
   "metadata": {
    "formattedRanges": [],
    "is_collapsed": false,
    "cell_id": "b1def3c2e308497a8bcb88a2e8f28698",
    "tags": [],
    "deepnote_cell_type": "text-cell-p"
   }
  },
  {
   "cell_type": "code",
   "metadata": {
    "cell_id": "fc3f9b13fa0c4429a4aaae05eec09d67",
    "tags": [],
    "deepnote_to_be_reexecuted": false,
    "source_hash": "74b71032",
    "execution_start": 1659921878250,
    "execution_millis": 5,
    "deepnote_cell_type": "code",
    "deepnote_cell_height": 441
   },
   "source": "def autoconvert_datetime(value, formats:list=['%m/%d/%Y','%m/%d/%y', '%m-%d-%y', '%d-%B', '%d %B'], additional_formats_to_try:list=[]):\n    \"\"\"An adaptable function to try taking in date strings for conversion to `datetime` objects.\n        Can take user-defined date formats either replacing defaults in `formats` \n        or by including extra formats in `additional_formats_to_try`\n    \"\"\"\n    formats.extend(additional_formats_to_try)    # all formats to try\n\n    result_format = '%Y-%m-%d'  # output format\n    \n    exception_ct = 0 # set a counter for exceptions\n    \n    # iterate through given formats to try converting to datetime\n    for dt_format in formats:\n        try:\n            dt_obj = dt.datetime.strptime(value, dt_format)\n            return str(dt_obj.strftime(result_format))\n        except Exception as e:  # throws exception when format doesn't match\n            exception_ct += 1\n            pass\n    #print(f\"Total number of exceptions: {exception_ct}\")\n    return value  # let it be if it doesn't match",
   "execution_count": null,
   "outputs": []
  },
  {
   "cell_type": "markdown",
   "source": "Define generalized function to import data",
   "metadata": {
    "formattedRanges": [],
    "is_collapsed": false,
    "cell_id": "26b0ce3ea89c4923a23c07c76347dff0",
    "tags": [],
    "deepnote_cell_type": "text-cell-p"
   }
  },
  {
   "cell_type": "code",
   "metadata": {
    "cell_id": "d2ebe261aed5481ca9725ce61910aa03",
    "tags": [],
    "deepnote_to_be_reexecuted": false,
    "source_hash": "3322d19e",
    "execution_start": 1659921883520,
    "execution_millis": 3,
    "deepnote_cell_type": "code",
    "deepnote_cell_height": 346
   },
   "source": "# generalized function to import data\ndef import_shipping_data(data_csv:str) -> pd.DataFrame:\n    date_cols:list = ['Shipment Date', 'ETA', 'Delivery Date']\n    valid_cols:list = ['SO#', 'PO#', 'Customer', 'Destination / Zip Code', 'Shipment Date', \n                        'Carrier', 'PRO# Wass', 'PRO#', 'Broker Quote', 'Invoice amount', \n                        'ETA','Delivery Date', 'Transit Time', 'Status'\n                        ]\n\n    shipments_df = (pd.read_csv(data_csv, usecols=valid_cols)\n                    .fillna(\"Not Entered\")\n                    .replace(\"ASAP\",\"Not Entered\")\n                )\n    for c in date_cols:\n        shipments_df[c] = shipments_df[c].apply(autoconvert_datetime)\n    \n    return shipments_df",
   "execution_count": null,
   "outputs": []
  },
  {
   "cell_type": "markdown",
   "source": "Import Data",
   "metadata": {
    "formattedRanges": [
     {
      "fromCodePoint": 0,
      "toCodePoint": 11,
      "marks": {
       "bold": true
      }
     }
    ],
    "is_collapsed": false,
    "cell_id": "c6b6fdcd6e17471590b5e38fa70a25a7",
    "tags": [],
    "deepnote_cell_type": "text-cell-p"
   }
  },
  {
   "cell_type": "code",
   "metadata": {
    "cell_id": "9a7526428e344f14b6c10708bc35f7a8",
    "tags": [],
    "deepnote_to_be_reexecuted": false,
    "source_hash": "2ff3cf0e",
    "execution_start": 1659921898138,
    "execution_millis": 27,
    "deepnote_cell_type": "code",
    "deepnote_cell_height": 76
   },
   "source": "shipments = import_shipping_data('./Data/Freight_Tracking.csv')",
   "execution_count": null,
   "outputs": []
  },
  {
   "cell_type": "code",
   "metadata": {
    "cell_id": "e68a832335234d29a3cdd4cc392bfe64",
    "tags": [],
    "deepnote_to_be_reexecuted": false,
    "source_hash": "25a92b2",
    "execution_start": 1659922661470,
    "execution_millis": 2,
    "deepnote_cell_type": "code",
    "deepnote_cell_height": 170.78125,
    "deepnote_output_heights": [
     78.796875
    ]
   },
   "source": "shipments.columns",
   "execution_count": null,
   "outputs": [
    {
     "output_type": "execute_result",
     "execution_count": 117,
     "data": {
      "text/plain": "Index(['SO#', 'PO#', 'Customer', 'Destination / Zip Code', 'Shipment Date',\n       'Carrier', 'PRO# Wass', 'PRO#', 'Broker Quote', 'Invoice amount', 'ETA',\n       'Delivery Date', 'Transit Time', 'Status'],\n      dtype='object')"
     },
     "metadata": {}
    }
   ]
  },
  {
   "cell_type": "markdown",
   "source": "#### Initial `Pydantic` Model for `Shipment` Class",
   "metadata": {
    "cell_id": "bab3f823b21b42288391966ed7a44cdc",
    "tags": [],
    "deepnote_cell_type": "markdown",
    "deepnote_cell_height": 54.796875
   }
  },
  {
   "cell_type": "markdown",
   "source": "Determine valid PO# lengths",
   "metadata": {
    "formattedRanges": [],
    "is_collapsed": false,
    "cell_id": "b2593dc21c0543b999d6c008ef4b8cf5",
    "tags": [],
    "deepnote_cell_type": "text-cell-p"
   }
  },
  {
   "cell_type": "code",
   "metadata": {
    "cell_id": "6a713d2632b44085976a355666729e39",
    "tags": [],
    "deepnote_to_be_reexecuted": false,
    "source_hash": "67f86061",
    "execution_start": 1659919911856,
    "execution_millis": 2,
    "is_code_hidden": true,
    "is_output_hidden": true,
    "deepnote_cell_type": "code",
    "deepnote_cell_height": 105.59375
   },
   "source": "l = []\nfor i in range(len(shipments)):\n    l.append(len(shipments[\"PO#\"][i]))\nx = set(l)\nprint(x)\nfor j in x:\n    print(f\"Valid PO# length: {j}\")",
   "execution_count": null,
   "outputs": [
    {
     "name": "stdout",
     "text": "{5, 6, 7, 8, 9, 10, 11, 12, 13, 14}\nValid PO# length: 5\nValid PO# length: 6\nValid PO# length: 7\nValid PO# length: 8\nValid PO# length: 9\nValid PO# length: 10\nValid PO# length: 11\nValid PO# length: 12\nValid PO# length: 13\nValid PO# length: 14\n",
     "output_type": "stream"
    }
   ]
  },
  {
   "cell_type": "code",
   "metadata": {
    "cell_id": "0fd92c48ba284b6ab0d24b524ec0f9c9",
    "tags": [],
    "deepnote_to_be_reexecuted": false,
    "source_hash": "a1aa7ace",
    "execution_start": 1659922053576,
    "execution_millis": 4,
    "deepnote_cell_type": "code",
    "deepnote_cell_height": 639
   },
   "source": "from datetime import date, datetime, time, timedelta\nclass Shipment(pydantic.BaseModel):\n    SO_num: str      # internal shipment order nmber\n    PO_num: str      # Product order number (tracking number generated by vendor)\n    customer: str    # customer name\n    carrier: str     # carrier (shipping vendor) name\n    destination: str # where the shipment is going\n    shipped_date: date # date the package was shipped\n    eta: Optional[date] = None # date the package is expected to arrive\n    delivered_date: Optional[date] = None\n    transit_time: Optional[int] = None\n    status: str = \"In-Transit\"\n\n    @pydantic.validator(\"PO_num\") # may refine this once I understand PO# formats required for each carrier\n    @classmethod\n    def valid_PO_num(cls, value):\n        chars = [c for c in value if c in \"0123456789ABCDEFGHIJKLMNOPQRSTUVWXYZ-\"]\n        invalid_chars = [i for i in value if i not in \"0123456789ABCDEFGHIJKLMNOPQRSTUVWXYZ-\"]\n        \n        if value in [None, \"Not Entered\", np.nan]:\n            raise MissingPOError(value=value, message=message)\n        \n        elif len(chars) not in [5, 6, 7, 8, 9, 10, 11, 12, 13, 14]:\n            raise InvalidPOError(value=value, message=\"PO number given is not valid\")\n\n    @pydantic.validator(\"carrier\") # may refine this once I understand PO# formats required for each carrier\n    @classmethod\n    def validate_carrier(cls,value):\n        \n    \n    \n    #def calculate_transit_time(self, self.shipped_date,self.)",
   "execution_count": null,
   "outputs": []
  },
  {
   "cell_type": "code",
   "metadata": {
    "cell_id": "bba7de170c114b53a5f2092f5d661cf5",
    "tags": [],
    "deepnote_to_be_reexecuted": false,
    "source_hash": "728e8f77",
    "execution_start": 1659922370066,
    "execution_millis": 1,
    "deepnote_cell_type": "code",
    "deepnote_cell_height": 202
   },
   "source": "s1 = Shipment(\n    SO_num = \"121334\",\n    PO_num = \"123456\",\n    customer = \"Perkins\",\n    destination = \"MN, 55433\",\n    shipped_date = '2022-01-09',\n    delivered_date = '2022-01-14'\n)",
   "execution_count": null,
   "outputs": []
  },
  {
   "cell_type": "code",
   "metadata": {
    "cell_id": "faee7065af3e45a6bc36241b405db2eb",
    "tags": [],
    "deepnote_to_be_reexecuted": false,
    "source_hash": "3dd01717",
    "execution_start": 1659922580309,
    "execution_millis": 6,
    "deepnote_cell_type": "code",
    "deepnote_cell_height": 213.984375,
    "deepnote_output_heights": [
     null,
     21.1875
    ]
   },
   "source": "td = s1.delivered_date - s1.shipped_date\nx = int(str(td).split(\" \")[0])\nprint(x)\ntype(x)",
   "execution_count": null,
   "outputs": [
    {
     "name": "stdout",
     "text": "5\n",
     "output_type": "stream"
    },
    {
     "output_type": "execute_result",
     "execution_count": 116,
     "data": {
      "text/plain": "int"
     },
     "metadata": {}
    }
   ]
  },
  {
   "cell_type": "markdown",
   "source": "Create error subclasses",
   "metadata": {
    "formattedRanges": [],
    "is_collapsed": false,
    "cell_id": "bad0d8446c9a43a8833620f54c72a616",
    "tags": [],
    "deepnote_cell_type": "text-cell-p"
   }
  },
  {
   "cell_type": "code",
   "metadata": {
    "cell_id": "c1500f405a2c484c8d28979d82e6dd3e",
    "tags": [],
    "deepnote_to_be_reexecuted": false,
    "source_hash": "383eabdd",
    "execution_start": 1659920048090,
    "execution_millis": 0,
    "deepnote_cell_type": "code",
    "deepnote_cell_height": 297
   },
   "source": "class InvalidPOError(Exception):\n    \"\"\"custom error that is raised whe PO# contains invalid characters or is not one of the pre-approved formats or lengths\"\"\"\n    def __init__(self,value:str, message:str) -> None:\n        self.value = value\n        self.message = message\n        super().init(message)\n\nclass MissingPOError(POnumValidationError):\n    def __init__(self,value:str, message:str) -> None:\n        self.value = value\n        self.message = \"PO# was not entered! Please go back and enter PO# for this shipment\"\n        super().init(message)\n",
   "execution_count": null,
   "outputs": []
  },
  {
   "cell_type": "code",
   "metadata": {
    "cell_id": "317cff4623134bc5b081000cad5f5935",
    "tags": [],
    "deepnote_to_be_reexecuted": false,
    "source_hash": "62b5bb1f",
    "execution_start": 1659918115313,
    "execution_millis": 10,
    "deepnote_cell_type": "code",
    "deepnote_cell_height": 149.1875,
    "deepnote_output_heights": [
     21.1875
    ]
   },
   "source": "value = shipments['PO#'][8]\nchars = [c for c in value if c in \"0123456789ABCDEFGHIJKLMNOPQRSTUVWXYZ-\"]\nchars",
   "execution_count": null,
   "outputs": [
    {
     "output_type": "execute_result",
     "execution_count": 32,
     "data": {
      "text/plain": "['S', '1', '2', '2', '0', '2', '3', '4']"
     },
     "metadata": {}
    }
   ]
  },
  {
   "cell_type": "markdown",
   "source": "Further clean up and format columns `shipments` dataframe to create global variables for each column that will be used as input/dataclass options later",
   "metadata": {
    "cell_id": "088562cfa8e345888c170cce22d8c978",
    "tags": [],
    "deepnote_cell_type": "markdown",
    "deepnote_cell_height": 74.796875
   }
  },
  {
   "cell_type": "markdown",
   "source": "## Dashboard (End User Interface)",
   "metadata": {
    "formattedRanges": [],
    "is_collapsed": false,
    "cell_id": "9c00bc2005b0422e95515c3739b08398",
    "tags": [],
    "deepnote_cell_type": "text-cell-h2"
   }
  },
  {
   "cell_type": "markdown",
   "source": "### Global Variables",
   "metadata": {
    "formattedRanges": [],
    "is_collapsed": false,
    "cell_id": "c7eb736a547b4dd19c34faea680b4464",
    "tags": [],
    "deepnote_cell_type": "text-cell-h3"
   }
  },
  {
   "cell_type": "code",
   "metadata": {
    "cell_id": "19636811fae2409baa19c578d08f4d8c",
    "tags": [],
    "deepnote_to_be_reexecuted": false,
    "source_hash": "20874d1b",
    "execution_start": 1659922877137,
    "execution_millis": 6,
    "deepnote_cell_type": "code",
    "deepnote_cell_height": 130.59375
   },
   "source": "carriers = list(set(shipments['Carrier']))\nprint(carriers)",
   "execution_count": null,
   "outputs": [
    {
     "name": "stdout",
     "text": "['Road Runner ', 'Roadrunner ', 'Central Transport', 'Conway ', 'T Force', 'Frontline', 'ABF', 'DHE', 'Saia', 'Roadrunner', 'Best Yet', 'XPO', 'SAIA', 'YRC', 'Ups Freight ', 'ESTES', 'Oak Harbor ', 'Conway', 'Reddaway', 'Estes', 'Tforce', 'Old Dominion', 'Hercules', 'R&L', 'Glova - Link', 'R&L ', 'Central Freight']\n",
     "output_type": "stream"
    }
   ]
  },
  {
   "cell_type": "code",
   "metadata": {
    "cell_id": "f0664ac5497a4798a144c613151b166f",
    "tags": [],
    "deepnote_cell_type": "code",
    "deepnote_cell_height": 61
   },
   "source": "",
   "execution_count": null,
   "outputs": []
  },
  {
   "cell_type": "markdown",
   "source": "### Set up Interface Elements",
   "metadata": {
    "formattedRanges": [],
    "is_collapsed": false,
    "cell_id": "5b959beea2d14465af1f6b17a2594b06",
    "tags": [],
    "deepnote_cell_type": "text-cell-h3"
   }
  },
  {
   "cell_type": "code",
   "metadata": {
    "cell_id": "a1734e73a26745e7a5591645c37e8021",
    "deepnote_variable_name": "po_input",
    "deepnote_variable_value": "",
    "deepnote_to_be_reexecuted": false,
    "source_hash": "7617e369",
    "execution_start": 1659817739267,
    "execution_millis": 1,
    "deepnote_cell_type": "input-text"
   },
   "source": "po_input = ''",
   "execution_count": null,
   "outputs": []
  },
  {
   "cell_type": "code",
   "metadata": {
    "cell_id": "ba2204cbe306432abc99b27ba82cf3b1",
    "deepnote_variable_name": "customer_select",
    "deepnote_variable_value": "",
    "deepnote_variable_options": [],
    "deepnote_variable_custom_options": [
     "Option 1",
     "Option 2"
    ],
    "deepnote_variable_selected_variable": "",
    "deepnote_variable_select_type": "from-variable",
    "deepnote_to_be_reexecuted": false,
    "source_hash": "7192c494",
    "execution_start": 1659817811182,
    "execution_millis": 0,
    "deepnote_cell_type": "input-select"
   },
   "source": "customer_select = ''",
   "execution_count": null,
   "outputs": []
  },
  {
   "cell_type": "code",
   "metadata": {
    "cell_id": "bd0a250ef05e4c73ad6315548fd3ef81",
    "deepnote_variable_name": "carrier_select",
    "deepnote_variable_value": "",
    "deepnote_variable_options": [],
    "deepnote_variable_custom_options": [],
    "deepnote_variable_selected_variable": "",
    "deepnote_variable_select_type": "from-variable",
    "deepnote_to_be_reexecuted": false,
    "source_hash": "9aa0d842",
    "execution_start": 1659817818836,
    "execution_millis": 1,
    "deepnote_cell_type": "input-select"
   },
   "source": "carrier_select = ''",
   "execution_count": null,
   "outputs": []
  },
  {
   "cell_type": "code",
   "metadata": {
    "cell_id": "1b6a3749e5784503afc71ca1d7e42e6c",
    "deepnote_variable_name": "eta_input",
    "deepnote_variable_value": "2022-08-06T07:00:00.000Z",
    "deepnote_to_be_reexecuted": false,
    "source_hash": "3ed73673",
    "execution_start": 1659817723750,
    "execution_millis": 0,
    "deepnote_cell_type": "input-date"
   },
   "source": "\nfrom datetime import datetime as _deepnote_datetime\neta_input = _deepnote_datetime.strptime('2022-08-06T07:00:00.000Z', \"%Y-%m-%dT%H:%M:%S.%fZ\")\n",
   "execution_count": null,
   "outputs": []
  },
  {
   "cell_type": "code",
   "metadata": {
    "cell_id": "1d2ca8cd13954b57ae77a4d79d1d4e1b",
    "deepnote_variable_name": "add_valid_carrier",
    "deepnote_variable_value": "USPS",
    "deepnote_to_be_reexecuted": false,
    "source_hash": "b7824620",
    "execution_start": 1659922978093,
    "execution_millis": 6,
    "deepnote_cell_type": "input-text"
   },
   "source": "add_valid_carrier = 'USPS'",
   "execution_count": null,
   "outputs": []
  },
  {
   "cell_type": "code",
   "metadata": {
    "cell_id": "1b4cabe83e00446ca4ad32edd95f81a9",
    "deepnote_variable_name": "new_carrier_url",
    "deepnote_variable_value": "",
    "deepnote_to_be_reexecuted": false,
    "source_hash": "df3ab3ef",
    "execution_start": 1659970057930,
    "execution_millis": 44,
    "deepnote_cell_type": "input-text"
   },
   "source": "new_carrier_url = ''",
   "execution_count": null,
   "outputs": []
  },
  {
   "cell_type": "code",
   "metadata": {
    "cell_id": "dd7141282e2246e890d244cbae61e529",
    "tags": [],
    "deepnote_to_be_reexecuted": false,
    "source_hash": "ec74f876",
    "execution_start": 1659922984841,
    "execution_millis": 8,
    "deepnote_cell_type": "code",
    "deepnote_cell_height": 130.59375
   },
   "source": "carriers.append(add_valid_carrier)\nprint(carriers)",
   "execution_count": null,
   "outputs": [
    {
     "name": "stdout",
     "text": "['Road Runner ', 'Roadrunner ', 'Central Transport', 'Conway ', 'T Force', 'Frontline', 'ABF', 'DHE', 'Saia', 'Roadrunner', 'Best Yet', 'XPO', 'SAIA', 'YRC', 'Ups Freight ', 'ESTES', 'Oak Harbor ', 'Conway', 'Reddaway', 'Estes', 'Tforce', 'Old Dominion', 'Hercules', 'R&L', 'Glova - Link', 'R&L ', 'Central Freight', 'USPS']\n",
     "output_type": "stream"
    }
   ]
  },
  {
   "cell_type": "markdown",
   "source": "<a style='text-decoration:none;line-height:16px;display:flex;color:#5B5B62;padding:10px;justify-content:end;' href='https://deepnote.com?utm_source=created-in-deepnote-cell&projectId=23421d57-1fd0-41ae-ba7e-62fc693f5e69' target=\"_blank\">\n<img alt='Created in deepnote.com' style='display:inline;max-height:16px;margin:0px;margin-right:7.5px;' src='data:image/svg+xml;base64,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' > </img>\nCreated in <span style='font-weight:600;margin-left:4px;'>Deepnote</span></a>",
   "metadata": {
    "tags": [],
    "created_in_deepnote_cell": true,
    "deepnote_cell_type": "markdown"
   }
  }
 ],
 "nbformat": 4,
 "nbformat_minor": 2,
 "metadata": {
  "orig_nbformat": 2,
  "deepnote": {
   "is_reactive": false
  },
  "deepnote_notebook_id": "36cd2e1f-1a22-4b52-9753-db8aa7e0c99a",
  "deepnote_app_layout": "article",
  "deepnote_execution_queue": []
 }
}