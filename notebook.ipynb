{
 "cells": [
  {
   "cell_type": "markdown",
   "source": "# Shipment Tracking \nA Pipeline & Dashboard to track shipments sent through multiple vendors <hr>\n\nKey Project Elements:\n- Deepnote Dashboard elements for intaking data from *end user*\n- API interaction and (probably) web scraping to fetch shipment status from vendor site \n- `pydantic` for data validation of shipment information\n- read and write to `.csv` for data permanence\n    - afterward may include `Great Expectations` to track data quality",
   "metadata": {
    "tags": [],
    "cell_id": "00000-85c6538f-6aaa-427b-9eda-29fdacf56457",
    "deepnote_cell_type": "markdown",
    "deepnote_cell_height": 323.796875
   }
  },
  {
   "cell_type": "markdown",
   "source": "## Setup",
   "metadata": {
    "formattedRanges": [],
    "is_collapsed": false,
    "cell_id": "f083506dabeb469ab24d4f8871b107de",
    "tags": [],
    "deepnote_cell_type": "text-cell-h2"
   }
  },
  {
   "cell_type": "markdown",
   "source": "### Resources\n- [Python API Tutorial](https://www.dataquest.io/blog/python-api-tutorial/)\n- [`BeautifulSoup4` Documentation](https://pypi.org/project/beautifulsoup4/)\n    - [Tutorial](https://realpython.com/beautiful-soup-web-scraper-python/) on getting started with `bs4`\n- [How to](https://pandas.pydata.org/docs/reference/api/pandas.DataFrame.append.html) append rows to a `pandas` dataframe\n- [`Pydantic` Documentation](https://pydantic-docs.helpmanual.io/)\n- [`Great Expectations` tutorial](https://towardsdatascience.com/monitoring-data-quality-in-a-data-lake-using-great-expectations-and-allure-built-serverless-47fa1791af6a)",
   "metadata": {
    "cell_id": "237e3b1f0d23459c831ec978ac191b4f",
    "tags": [],
    "deepnote_cell_type": "markdown",
    "deepnote_cell_height": 252.390625
   }
  },
  {
   "cell_type": "markdown",
   "source": "### Import statements",
   "metadata": {
    "tags": [],
    "cell_id": "00002-409d4826-9fc0-469a-961d-2ed83bc0a7c7",
    "deepnote_cell_type": "markdown",
    "deepnote_cell_height": 62
   }
  },
  {
   "cell_type": "code",
   "metadata": {
    "tags": [],
    "cell_id": "00000-e170fae0-7e06-4a7a-85f3-343584ec4b94",
    "deepnote_to_be_reexecuted": false,
    "source_hash": "981af1a5",
    "execution_start": 1660355670356,
    "execution_millis": 1197,
    "deepnote_app_coordinates": {
     "x": 0,
     "y": 6,
     "w": 12,
     "h": 5
    },
    "deepnote_cell_type": "code",
    "deepnote_cell_height": 287.796875
   },
   "source": "import pandas as pd\nimport numpy as np\nfrom bs4 import BeautifulSoup as bs4\nimport json\nimport requests as re\nimport datetime as dt\nimport pydantic\nfrom typing import Optional\nimport warnings\nwarnings.filterwarnings(\"ignore\", category=DeprecationWarning)\nprint(\"All packages imported successfully\")",
   "execution_count": null,
   "outputs": [
    {
     "name": "stdout",
     "text": "All packages imported successfully\n",
     "output_type": "stream"
    }
   ]
  },
  {
   "cell_type": "markdown",
   "source": "### Initialize Data\nimport original data from `.csv`",
   "metadata": {
    "cell_id": "9a364be33ce64429ba6ff47bd977c36b",
    "tags": [],
    "deepnote_cell_type": "markdown",
    "deepnote_cell_height": 100.390625
   }
  },
  {
   "cell_type": "code",
   "metadata": {
    "cell_id": "7a1d776c5f734ee2b1a39f6871d4f8fe",
    "tags": [],
    "deepnote_to_be_reexecuted": false,
    "source_hash": "ba984be9",
    "execution_start": 1660266537912,
    "execution_millis": 8,
    "deepnote_cell_type": "code",
    "deepnote_cell_height": 125.796875
   },
   "source": "x = dt.date(2022, 8, 1)\nprint(x)",
   "execution_count": null,
   "outputs": [
    {
     "name": "stdout",
     "text": "2022-08-01\n",
     "output_type": "stream"
    }
   ]
  },
  {
   "cell_type": "code",
   "metadata": {
    "tags": [],
    "cell_id": "00007-f83d8057-e00a-4808-a961-c914bf434185",
    "deepnote_to_be_reexecuted": false,
    "source_hash": "48ed323f",
    "execution_start": 1660266537962,
    "execution_millis": 49,
    "allow_embed": true,
    "owner_user_id": "a91131d5-3a8f-4ab6-899b-8a84e0fa5269",
    "deepnote_table_state": {
     "pageSize": 10,
     "pageIndex": 1,
     "filters": [],
     "sortBy": []
    },
    "deepnote_table_loading": false,
    "deepnote_cell_type": "code",
    "deepnote_cell_height": 832
   },
   "source": "date_cols:list = ['Shipment Date', 'ETA', 'Delivery Date']\nnew_date_cols:list = ['shipped_date', 'eta_date', 'delivered_date']\n\ndef autoconvert_datetime(value):\n    formats = ['%m/%d/%Y','%m/%d/%y', '%m-%d-%y', '%d-%B', '%d %B']  # formats to try\n    result_format = '%Y-%m-%d'  # output format\n    exception_ct = 0\n    for dt_format in formats:\n        try:\n            dt_obj = dt.datetime.strptime(value, dt_format)\n            return dt_obj.strftime(result_format)\n        except Exception as e:  # throws exception when format doesn't match\n            exception_ct += 1\n            pass\n    #print(f\"Total number of exceptions: {exception_ct}\")\n    return value  # let it be if it doesn't match\n\n\nshipments = (pd.read_csv('./Data/Freight_Tracking.csv')\n                .drop(columns=['Unnamed: 14', 'Unnamed: 15', 'Unnamed: 16'])\n                .fillna(\"Not Entered\")\n                .replace(\"ASAP\",\"Not Entered\")\n            )\nfor c in date_cols:\n    shipments[c] = shipments[c].apply(autoconvert_datetime)\nshipments.isnull().sum()",
   "execution_count": null,
   "outputs": [
    {
     "output_type": "execute_result",
     "execution_count": 3,
     "data": {
      "text/plain": "SO#                       0\nPO#                       0\nCustomer                  0\nDestination / Zip Code    0\nShipment Date             0\nCarrier                   0\nPRO# Wass                 0\nPRO#                      0\nBroker Quote              0\nInvoice amount            0\nETA                       0\nDelivery Date             0\nTransit Time              0\nStatus                    0\ndtype: int64"
     },
     "metadata": {}
    }
   ]
  },
  {
   "cell_type": "code",
   "metadata": {
    "cell_id": "1d30f5fe05524f4c90a0f4c32944010a",
    "tags": [],
    "deepnote_to_be_reexecuted": false,
    "source_hash": "b249a3ee",
    "execution_start": 1660266538049,
    "execution_millis": 54,
    "output_cleared": true,
    "deepnote_cell_type": "code",
    "deepnote_cell_height": 76
   },
   "source": "shipments.sample(5)",
   "execution_count": null,
   "outputs": []
  },
  {
   "cell_type": "code",
   "metadata": {
    "cell_id": "ebf2a45c85b94ef49f71cb54b1532e99",
    "tags": [],
    "deepnote_to_be_reexecuted": false,
    "source_hash": "233e6dae",
    "execution_start": 1660266538105,
    "execution_millis": 861,
    "deepnote_cell_type": "code",
    "deepnote_cell_height": 175.1875
   },
   "source": "d = shipments.ETA[1]\ndt.datetime.strptime(d, '%m/%d/%y')\nautoconvert_datetime(d)",
   "execution_count": null,
   "outputs": [
    {
     "output_type": "error",
     "ename": "ValueError",
     "evalue": "time data '2021-06-17' does not match format '%m/%d/%y'",
     "traceback": [
      "\u001b[0;31m---------------------------------------------------------------------------\u001b[0m",
      "\u001b[0;31mValueError\u001b[0m                                Traceback (most recent call last)",
      "Input \u001b[0;32mIn [5]\u001b[0m, in \u001b[0;36m<cell line: 2>\u001b[0;34m()\u001b[0m\n\u001b[1;32m      1\u001b[0m d \u001b[38;5;241m=\u001b[39m shipments\u001b[38;5;241m.\u001b[39mETA[\u001b[38;5;241m1\u001b[39m]\n\u001b[0;32m----> 2\u001b[0m \u001b[43mdt\u001b[49m\u001b[38;5;241;43m.\u001b[39;49m\u001b[43mdatetime\u001b[49m\u001b[38;5;241;43m.\u001b[39;49m\u001b[43mstrptime\u001b[49m\u001b[43m(\u001b[49m\u001b[43md\u001b[49m\u001b[43m,\u001b[49m\u001b[43m \u001b[49m\u001b[38;5;124;43m'\u001b[39;49m\u001b[38;5;124;43m%\u001b[39;49m\u001b[38;5;124;43mm/\u001b[39;49m\u001b[38;5;132;43;01m%d\u001b[39;49;00m\u001b[38;5;124;43m/\u001b[39;49m\u001b[38;5;124;43m%\u001b[39;49m\u001b[38;5;124;43my\u001b[39;49m\u001b[38;5;124;43m'\u001b[39;49m\u001b[43m)\u001b[49m\n\u001b[1;32m      3\u001b[0m autoconvert_datetime(d)\n",
      "File \u001b[0;32m/usr/local/lib/python3.10/_strptime.py:568\u001b[0m, in \u001b[0;36m_strptime_datetime\u001b[0;34m(cls, data_string, format)\u001b[0m\n\u001b[1;32m    565\u001b[0m \u001b[38;5;28;01mdef\u001b[39;00m \u001b[38;5;21m_strptime_datetime\u001b[39m(\u001b[38;5;28mcls\u001b[39m, data_string, \u001b[38;5;28mformat\u001b[39m\u001b[38;5;241m=\u001b[39m\u001b[38;5;124m\"\u001b[39m\u001b[38;5;132;01m%a\u001b[39;00m\u001b[38;5;124m \u001b[39m\u001b[38;5;124m%\u001b[39m\u001b[38;5;124mb \u001b[39m\u001b[38;5;132;01m%d\u001b[39;00m\u001b[38;5;124m \u001b[39m\u001b[38;5;124m%\u001b[39m\u001b[38;5;124mH:\u001b[39m\u001b[38;5;124m%\u001b[39m\u001b[38;5;124mM:\u001b[39m\u001b[38;5;124m%\u001b[39m\u001b[38;5;124mS \u001b[39m\u001b[38;5;124m%\u001b[39m\u001b[38;5;124mY\u001b[39m\u001b[38;5;124m\"\u001b[39m):\n\u001b[1;32m    566\u001b[0m     \u001b[38;5;124;03m\"\"\"Return a class cls instance based on the input string and the\u001b[39;00m\n\u001b[1;32m    567\u001b[0m \u001b[38;5;124;03m    format string.\"\"\"\u001b[39;00m\n\u001b[0;32m--> 568\u001b[0m     tt, fraction, gmtoff_fraction \u001b[38;5;241m=\u001b[39m \u001b[43m_strptime\u001b[49m\u001b[43m(\u001b[49m\u001b[43mdata_string\u001b[49m\u001b[43m,\u001b[49m\u001b[43m \u001b[49m\u001b[38;5;28;43mformat\u001b[39;49m\u001b[43m)\u001b[49m\n\u001b[1;32m    569\u001b[0m     tzname, gmtoff \u001b[38;5;241m=\u001b[39m tt[\u001b[38;5;241m-\u001b[39m\u001b[38;5;241m2\u001b[39m:]\n\u001b[1;32m    570\u001b[0m     args \u001b[38;5;241m=\u001b[39m tt[:\u001b[38;5;241m6\u001b[39m] \u001b[38;5;241m+\u001b[39m (fraction,)\n",
      "File \u001b[0;32m/usr/local/lib/python3.10/_strptime.py:349\u001b[0m, in \u001b[0;36m_strptime\u001b[0;34m(data_string, format)\u001b[0m\n\u001b[1;32m    347\u001b[0m found \u001b[38;5;241m=\u001b[39m format_regex\u001b[38;5;241m.\u001b[39mmatch(data_string)\n\u001b[1;32m    348\u001b[0m \u001b[38;5;28;01mif\u001b[39;00m \u001b[38;5;129;01mnot\u001b[39;00m found:\n\u001b[0;32m--> 349\u001b[0m     \u001b[38;5;28;01mraise\u001b[39;00m \u001b[38;5;167;01mValueError\u001b[39;00m(\u001b[38;5;124m\"\u001b[39m\u001b[38;5;124mtime data \u001b[39m\u001b[38;5;132;01m%r\u001b[39;00m\u001b[38;5;124m does not match format \u001b[39m\u001b[38;5;132;01m%r\u001b[39;00m\u001b[38;5;124m\"\u001b[39m \u001b[38;5;241m%\u001b[39m\n\u001b[1;32m    350\u001b[0m                      (data_string, \u001b[38;5;28mformat\u001b[39m))\n\u001b[1;32m    351\u001b[0m \u001b[38;5;28;01mif\u001b[39;00m \u001b[38;5;28mlen\u001b[39m(data_string) \u001b[38;5;241m!=\u001b[39m found\u001b[38;5;241m.\u001b[39mend():\n\u001b[1;32m    352\u001b[0m     \u001b[38;5;28;01mraise\u001b[39;00m \u001b[38;5;167;01mValueError\u001b[39;00m(\u001b[38;5;124m\"\u001b[39m\u001b[38;5;124munconverted data remains: \u001b[39m\u001b[38;5;132;01m%s\u001b[39;00m\u001b[38;5;124m\"\u001b[39m \u001b[38;5;241m%\u001b[39m\n\u001b[1;32m    353\u001b[0m                       data_string[found\u001b[38;5;241m.\u001b[39mend():])\n",
      "\u001b[0;31mValueError\u001b[0m: time data '2021-06-17' does not match format '%m/%d/%y'"
     ]
    }
   ]
  },
  {
   "cell_type": "code",
   "metadata": {
    "cell_id": "5b1b7eafc35d4d68b6545145cbeb79cc",
    "tags": [],
    "deepnote_to_be_reexecuted": true,
    "source_hash": "8661c759",
    "execution_start": 1659914615793,
    "execution_millis": 174,
    "deepnote_cell_type": "code",
    "deepnote_cell_height": 517.796875
   },
   "source": "date_cols:list = ['Shipment Date', 'ETA', 'Delivery Date']\nnew_date_cols:list = ['shipped_date', 'eta_date', 'delivered_date']\n\ndef autoconvert_datetime(value):\n    formats = ['%m/%d/%Y','%m/%d/%y', '%m-%d-%y', '%d-%B', '%d %B']  # formats to try\n    result_format = '%d-%m-%Y'  # output format\n    exception_ct = 0\n    for dt_format in formats:\n        try:\n            dt_obj = dt.datetime.strptime(value, dt_format)\n            return dt_obj.strftime(result_format)\n        except Exception as e:  # throws exception when format doesn't match\n            exception_ct += 1\n            pass\n    #print(f\"Total number of exceptions: {exception_ct}\")\n    return value  # let it be if it doesn't match\n\nshipments['ETA'] = shipments['ETA'].apply(autoconvert_datetime)",
   "execution_count": null,
   "outputs": [
    {
     "name": "stdout",
     "text": "Total number of exceptions: 5\nTotal number of exceptions: 5\nTotal number of exceptions: 5\nTotal number of exceptions: 5\nTotal number of exceptions: 5\nTotal number of exceptions: 5\n",
     "output_type": "stream"
    }
   ]
  },
  {
   "cell_type": "code",
   "metadata": {
    "cell_id": "8cb5f43fe39e474db563711a47015e25",
    "tags": [],
    "deepnote_to_be_reexecuted": true,
    "source_hash": "a79831a3",
    "execution_start": 1659914639498,
    "execution_millis": 6,
    "deepnote_table_state": {
     "pageSize": 10,
     "pageIndex": 0,
     "filters": [],
     "sortBy": []
    },
    "deepnote_table_loading": false,
    "output_cleared": true,
    "deepnote_cell_type": "code",
    "deepnote_cell_height": 76
   },
   "source": "shipments",
   "execution_count": null,
   "outputs": []
  },
  {
   "cell_type": "code",
   "metadata": {
    "cell_id": "fa3ad9b18ed54174b681c04a691f364a",
    "tags": [],
    "deepnote_to_be_reexecuted": true,
    "source_hash": "70b59595",
    "execution_start": 1659911111216,
    "execution_millis": 508,
    "deepnote_cell_type": "code",
    "deepnote_cell_height": 438.578125,
    "deepnote_output_heights": [
     346.59375
    ]
   },
   "source": "shipments.isnull().sum()",
   "execution_count": null,
   "outputs": [
    {
     "output_type": "execute_result",
     "execution_count": 136,
     "data": {
      "text/plain": "SO#                       0\nPO#                       0\nCustomer                  0\nDestination / Zip Code    0\nShipment Date             0\nCarrier                   0\nPRO# Wass                 0\nPRO#                      0\nBroker Quote              0\nInvoice amount            0\nETA                       0\nDelivery Date             0\nTransit Time              0\nStatus                    0\nshipped_date              0\neta_date                  0\ndelivered_date            0\ndtype: int64"
     },
     "metadata": {}
    }
   ]
  },
  {
   "cell_type": "code",
   "metadata": {
    "cell_id": "65eeb512692341689fd95dbc03c0e182",
    "tags": [],
    "deepnote_to_be_reexecuted": true,
    "source_hash": "eaf8fd03",
    "execution_start": 1659820125069,
    "execution_millis": 3,
    "output_cleared": true,
    "deepnote_cell_type": "code",
    "deepnote_cell_height": 94
   },
   "source": "x = set(shipments.Customer)\nx",
   "execution_count": null,
   "outputs": []
  },
  {
   "cell_type": "code",
   "metadata": {
    "cell_id": "c7605c96faff444498f86e3efa968597",
    "tags": [],
    "deepnote_to_be_reexecuted": true,
    "source_hash": "684aa937",
    "execution_start": 1659819915802,
    "execution_millis": 24,
    "deepnote_cell_type": "code",
    "deepnote_cell_height": 76
   },
   "source": "shipments[\"Shipment Date\"] = pd.to_datetime(shipments[\"Shipment Date\"])",
   "execution_count": null,
   "outputs": []
  },
  {
   "cell_type": "code",
   "metadata": {
    "cell_id": "f51acdd23df545a39494a960a843cc59",
    "tags": [],
    "deepnote_to_be_reexecuted": true,
    "source_hash": "d23e3ad9",
    "execution_start": 1659819929847,
    "execution_millis": 1,
    "deepnote_cell_type": "code",
    "deepnote_cell_height": 438.578125,
    "deepnote_output_heights": [
     346.59375
    ]
   },
   "source": "shipments.dtypes",
   "execution_count": null,
   "outputs": [
    {
     "output_type": "execute_result",
     "execution_count": 43,
     "data": {
      "text/plain": "SO#                               object\nPO#                               object\nCustomer                          object\nDestination / Zip Code            object\nShipment Date             datetime64[ns]\nCarrier                           object\nPRO# Wass                         object\nPRO#                              object\nBroker Quote                      object\nInvoice amount                   float64\nETA                               object\nDelivery Date                     object\nTransit Time                      object\nStatus                            object\nUnnamed: 14                      float64\nUnnamed: 15                       object\nUnnamed: 16                       object\ndtype: object"
     },
     "metadata": {}
    }
   ]
  },
  {
   "cell_type": "code",
   "metadata": {
    "cell_id": "15aa0bab934347a78730d55fe176d9ef",
    "tags": [],
    "deepnote_to_be_reexecuted": true,
    "source_hash": "b249a3ee",
    "execution_start": 1659819945968,
    "execution_millis": 61,
    "output_cleared": true,
    "deepnote_cell_type": "code",
    "deepnote_cell_height": 76
   },
   "source": "shipments.sample(5)",
   "execution_count": null,
   "outputs": []
  },
  {
   "cell_type": "markdown",
   "source": "### Test Cleaning up Columns",
   "metadata": {
    "formattedRanges": [],
    "is_collapsed": false,
    "cell_id": "4aaeccbc04ce4ad083e023c74e473a13",
    "tags": [],
    "deepnote_cell_type": "text-cell-h3"
   }
  },
  {
   "cell_type": "code",
   "metadata": {
    "cell_id": "d9754b14ae864978b41c35a7abee7ea6",
    "tags": [],
    "deepnote_to_be_reexecuted": true,
    "source_hash": "b9e315e3",
    "execution_start": 1659820243107,
    "execution_millis": 27,
    "output_cleared": true,
    "deepnote_cell_type": "code",
    "deepnote_cell_height": 94
   },
   "source": "customers = set(shipments[\"Customer\"].str.strip())\ncustomers",
   "execution_count": null,
   "outputs": []
  },
  {
   "cell_type": "markdown",
   "source": "## Main Code",
   "metadata": {
    "formattedRanges": [],
    "is_collapsed": false,
    "cell_id": "c1373d0d95764af385140945678b8558",
    "tags": [],
    "deepnote_cell_type": "text-cell-h2"
   }
  },
  {
   "cell_type": "code",
   "metadata": {
    "cell_id": "01fbe686eedf4a51ac500e263ad30ba6",
    "tags": [],
    "deepnote_to_be_reexecuted": false,
    "source_hash": "981af1a5",
    "execution_start": 1660361642628,
    "execution_millis": 412,
    "deepnote_cell_type": "code",
    "deepnote_cell_height": 287.796875
   },
   "source": "import pandas as pd\nimport numpy as np\nfrom bs4 import BeautifulSoup as bs4\nimport json\nimport requests as re\nimport datetime as dt\nimport pydantic\nfrom typing import Optional\nimport warnings\nwarnings.filterwarnings(\"ignore\", category=DeprecationWarning)\nprint(\"All packages imported successfully\")",
   "execution_count": null,
   "outputs": [
    {
     "name": "stdout",
     "text": "All packages imported successfully\n",
     "output_type": "stream"
    }
   ]
  },
  {
   "cell_type": "markdown",
   "source": "### General Data Cleaning & Model\nApply general cleaning procedures to `shipments` dataframe to:\n- remove whitespace\n- format dates\n    - handle inconcsistent date formats\n    - format to `datetime` object\n- handle missing data\n\n<hr>\n\nThe code above was getting messy trying to initialize everything with a dataframe. I think instead we can:\n1. create a `pydantic` model for an arbitrary `Shipment` instance of a shipment, then \n2. iterate through the `.csv` file and make each row a new instance of `Shipment()`\n    a. add each instance of `Shipment()` to a new `DataFrame`\n\nIn doing this, we'll see if we can make a `pydantic` model that is able to handle all the above cleaning tasks through its parsing operations",
   "metadata": {
    "cell_id": "7469d54cf34c4b0abd9e4297a5fd0651",
    "tags": [],
    "deepnote_cell_type": "markdown",
    "deepnote_cell_height": 429.796875
   }
  },
  {
   "cell_type": "markdown",
   "source": "Define adaptable date conversion function",
   "metadata": {
    "formattedRanges": [],
    "is_collapsed": false,
    "cell_id": "b1def3c2e308497a8bcb88a2e8f28698",
    "tags": [],
    "deepnote_cell_type": "text-cell-p"
   }
  },
  {
   "cell_type": "code",
   "metadata": {
    "cell_id": "fc3f9b13fa0c4429a4aaae05eec09d67",
    "tags": [],
    "deepnote_to_be_reexecuted": false,
    "source_hash": "74b71032",
    "execution_start": 1660355681613,
    "execution_millis": 1,
    "deepnote_cell_type": "code",
    "deepnote_cell_height": 441
   },
   "source": "def autoconvert_datetime(value, formats:list=['%m/%d/%Y','%m/%d/%y', '%m-%d-%y', '%d-%B', '%d %B'], additional_formats_to_try:list=[]):\n    \"\"\"An adaptable function to try taking in date strings for conversion to `datetime` objects.\n        Can take user-defined date formats either replacing defaults in `formats` \n        or by including extra formats in `additional_formats_to_try`\n    \"\"\"\n    formats.extend(additional_formats_to_try)    # all formats to try\n\n    result_format = '%Y-%m-%d'  # output format\n    \n    exception_ct = 0 # set a counter for exceptions\n    \n    # iterate through given formats to try converting to datetime\n    for dt_format in formats:\n        try:\n            dt_obj = dt.datetime.strptime(value, dt_format)\n            return str(dt_obj.strftime(result_format))\n        except Exception as e:  # throws exception when format doesn't match\n            exception_ct += 1\n            pass\n    #print(f\"Total number of exceptions: {exception_ct}\")\n    return value  # let it be if it doesn't match",
   "execution_count": null,
   "outputs": []
  },
  {
   "cell_type": "markdown",
   "source": "Define generalized function to import data",
   "metadata": {
    "formattedRanges": [],
    "is_collapsed": false,
    "cell_id": "26b0ce3ea89c4923a23c07c76347dff0",
    "tags": [],
    "deepnote_cell_type": "text-cell-p"
   }
  },
  {
   "cell_type": "code",
   "metadata": {
    "cell_id": "d2ebe261aed5481ca9725ce61910aa03",
    "tags": [],
    "deepnote_to_be_reexecuted": false,
    "source_hash": "3322d19e",
    "execution_start": 1660355687823,
    "execution_millis": 10,
    "deepnote_cell_type": "code",
    "deepnote_cell_height": 346
   },
   "source": "# generalized function to import data\ndef import_shipping_data(data_csv:str) -> pd.DataFrame:\n    date_cols:list = ['Shipment Date', 'ETA', 'Delivery Date']\n    valid_cols:list = ['SO#', 'PO#', 'Customer', 'Destination / Zip Code', 'Shipment Date', \n                        'Carrier', 'PRO# Wass', 'PRO#', 'Broker Quote', 'Invoice amount', \n                        'ETA','Delivery Date', 'Transit Time', 'Status'\n                        ]\n\n    shipments_df = (pd.read_csv(data_csv, usecols=valid_cols)\n                    .fillna(\"Not Entered\")\n                    .replace(\"ASAP\",\"Not Entered\")\n                )\n    for c in date_cols:\n        shipments_df[c] = shipments_df[c].apply(autoconvert_datetime)\n    \n    return shipments_df",
   "execution_count": null,
   "outputs": []
  },
  {
   "cell_type": "markdown",
   "source": "Import Data",
   "metadata": {
    "formattedRanges": [
     {
      "fromCodePoint": 0,
      "toCodePoint": 11,
      "marks": {
       "bold": true
      }
     }
    ],
    "is_collapsed": false,
    "cell_id": "c6b6fdcd6e17471590b5e38fa70a25a7",
    "tags": [],
    "deepnote_cell_type": "text-cell-p"
   }
  },
  {
   "cell_type": "code",
   "metadata": {
    "cell_id": "9a7526428e344f14b6c10708bc35f7a8",
    "tags": [],
    "deepnote_to_be_reexecuted": false,
    "source_hash": "2ff3cf0e",
    "execution_start": 1660355696400,
    "execution_millis": 22,
    "deepnote_cell_type": "code",
    "deepnote_cell_height": 76
   },
   "source": "shipments = import_shipping_data('./Data/Freight_Tracking.csv')",
   "execution_count": null,
   "outputs": []
  },
  {
   "cell_type": "code",
   "metadata": {
    "cell_id": "e68a832335234d29a3cdd4cc392bfe64",
    "tags": [],
    "deepnote_to_be_reexecuted": false,
    "source_hash": "25a92b2",
    "execution_start": 1660355700435,
    "execution_millis": 61,
    "deepnote_cell_type": "code",
    "deepnote_cell_height": 169.78125,
    "deepnote_output_heights": [
     77.796875
    ]
   },
   "source": "shipments.columns",
   "execution_count": null,
   "outputs": [
    {
     "output_type": "execute_result",
     "execution_count": 6,
     "data": {
      "text/plain": "Index(['SO#', 'PO#', 'Customer', 'Destination / Zip Code', 'Shipment Date',\n       'Carrier', 'PRO# Wass', 'PRO#', 'Broker Quote', 'Invoice amount', 'ETA',\n       'Delivery Date', 'Transit Time', 'Status'],\n      dtype='object')"
     },
     "metadata": {}
    }
   ]
  },
  {
   "cell_type": "markdown",
   "source": "### Set up Data Structure with `Pydantic` Models",
   "metadata": {
    "cell_id": "bab3f823b21b42288391966ed7a44cdc",
    "tags": [],
    "deepnote_cell_type": "markdown",
    "deepnote_cell_height": 62
   }
  },
  {
   "cell_type": "markdown",
   "source": "Determine valid PO# lengths",
   "metadata": {
    "formattedRanges": [],
    "is_collapsed": false,
    "cell_id": "b2593dc21c0543b999d6c008ef4b8cf5",
    "tags": [],
    "deepnote_cell_type": "text-cell-p"
   }
  },
  {
   "cell_type": "code",
   "metadata": {
    "cell_id": "6a713d2632b44085976a355666729e39",
    "tags": [],
    "deepnote_to_be_reexecuted": true,
    "source_hash": "67f86061",
    "execution_start": 1659919911856,
    "execution_millis": 2,
    "is_code_hidden": true,
    "is_output_hidden": true,
    "deepnote_cell_type": "code",
    "deepnote_cell_height": 105.59375
   },
   "source": "l = []\nfor i in range(len(shipments)):\n    l.append(len(shipments[\"PO#\"][i]))\nx = set(l)\nprint(x)\nfor j in x:\n    print(f\"Valid PO# length: {j}\")",
   "execution_count": null,
   "outputs": [
    {
     "name": "stdout",
     "text": "{5, 6, 7, 8, 9, 10, 11, 12, 13, 14}\nValid PO# length: 5\nValid PO# length: 6\nValid PO# length: 7\nValid PO# length: 8\nValid PO# length: 9\nValid PO# length: 10\nValid PO# length: 11\nValid PO# length: 12\nValid PO# length: 13\nValid PO# length: 14\n",
     "output_type": "stream"
    }
   ]
  },
  {
   "cell_type": "markdown",
   "source": "#### Set up valid carriers and `Carrier` class",
   "metadata": {
    "cell_id": "daa48fa3f2ee463a9b03946fd40a0e24",
    "tags": [],
    "deepnote_cell_type": "markdown",
    "deepnote_cell_height": 54.796875
   }
  },
  {
   "cell_type": "code",
   "metadata": {
    "cell_id": "04aaadc8f0d64b2aba93158ed5ed57bb",
    "tags": [],
    "deepnote_to_be_reexecuted": false,
    "source_hash": "a9583758",
    "execution_start": 1660355723239,
    "execution_millis": 4,
    "deepnote_cell_type": "code",
    "deepnote_cell_height": 184
   },
   "source": "class Carrier(pydantic.BaseModel):\n    carrier_name: str\n    tracking_url: pydantic.AnyHttpUrl\n\n    class Config:\n        anystr_strip_whitespace = True\n        extra = pydantic.Extra.ignore",
   "execution_count": null,
   "outputs": []
  },
  {
   "cell_type": "code",
   "metadata": {
    "cell_id": "d7f9999adc384d8ea22fc324dd8714ff",
    "tags": [],
    "deepnote_to_be_reexecuted": false,
    "source_hash": "df3136eb",
    "execution_start": 1660355729726,
    "execution_millis": 0,
    "deepnote_cell_type": "code",
    "deepnote_cell_height": 117
   },
   "source": "carrier_data = [{\"carrier_name\":\"Bunzl\", \"tracking_url\":\"https://www.xyz.com\"}, {\"carrier_name\":\"Road Runner\", \"tracking_url\":\"https://www.xyz.com\"}]\ncarriers:list[Carrier] = [Carrier(**item) for item in carrier_data]\n#print(c1)",
   "execution_count": null,
   "outputs": []
  },
  {
   "cell_type": "code",
   "metadata": {
    "cell_id": "8ff3af7774134a4d9964c08354260744",
    "tags": [],
    "deepnote_to_be_reexecuted": false,
    "source_hash": "78bec80f",
    "execution_start": 1660355732025,
    "execution_millis": 0,
    "deepnote_cell_type": "code",
    "deepnote_cell_height": 130.1875,
    "deepnote_output_heights": [
     20.1875
    ]
   },
   "source": "c0 = carriers[0]\nc0",
   "execution_count": null,
   "outputs": [
    {
     "output_type": "execute_result",
     "execution_count": 10,
     "data": {
      "text/plain": "Carrier(carrier_name='Bunzl', tracking_url=AnyHttpUrl('https://www.xyz.com', scheme='https', host='www.xyz.com', tld='com', host_type='domain'))"
     },
     "metadata": {}
    }
   ]
  },
  {
   "cell_type": "code",
   "metadata": {
    "cell_id": "867b076b6d3144eab8f01317ca23285a",
    "tags": [],
    "deepnote_to_be_reexecuted": false,
    "source_hash": "1fa83ac6",
    "execution_start": 1660358094083,
    "execution_millis": 0,
    "deepnote_cell_type": "code",
    "deepnote_cell_height": 94
   },
   "source": "class X(pydantic.BaseSettings):\n    a: str = pydantic.Field(...,env='shell')",
   "execution_count": null,
   "outputs": []
  },
  {
   "cell_type": "code",
   "metadata": {
    "cell_id": "beea05a3f3e647e19bbef437a8d388f2",
    "tags": [],
    "deepnote_to_be_reexecuted": false,
    "source_hash": "ba488a24",
    "execution_start": 1660357913886,
    "execution_millis": 0,
    "deepnote_cell_type": "code",
    "deepnote_cell_height": 130.59375
   },
   "source": "import os\nprint(os.environ)",
   "execution_count": null,
   "outputs": [
    {
     "name": "stdout",
     "text": "environ({'SHELL': '/bin/bash', 'KUBERNETES_SERVICE_PORT_HTTPS': '443', 'DEEPNOTE_GITHUB_TOKEN_SERVICE_URL': 'https://deepnote.com/api/github-apps/git-token', 'JUPYTER_CONFIG_DIR': '/deepnote-config/jupyter', 'KUBERNETES_SERVICE_PORT': '443', 'INTEGRATION_CREDENTIALS_SERVICE_PORT': 'tcp://10.100.12.67:80', 'HOSTNAME': 'p-23421d57-1fd0-41ae-ba7e-62fc693f5e69', 'PYTHON_VERSION': '3.10', 'LANGUAGE': 'en_US.UTF-8', 'GIT_SSH_COMMAND': 'ssh -i /work/.deepnote/gitkey -o UserKnownHostsFile=/dev/null -o StrictHostKeyChecking=no', 'INTEGRATION_CREDENTIALS_SERVICE_PORT_80_TCP_ADDR': '10.100.12.67', 'INTEGRATION_CREDENTIALS_SERVICE_PORT_80_TCP': 'tcp://10.100.12.67:80', 'PWD': '/', 'JUPYTER_TOKEN': '2492d054-84de-46ce-8d41-0ee51b4b2af2', 'PYTHON_SETUPTOOLS_VERSION': '58.1.0', 'INTEGRATION_CREDENTIALS_SERVICE_SERVICE_PORT': '80', 'PLOTLY_RENDERER': 'colab', 'IPYTHONDIR': '/deepnote-config/ipython', 'HOME': '/root', 'LANG': 'en_US.UTF-8', 'KUBERNETES_PORT_443_TCP': 'tcp://10.100.0.1:443', 'INTEGRATION_CREDENTIALS_SERVICE_PORT_80_TCP_PORT': '80', 'VIRTUAL_ENV': '/root/venv', 'INTEGRATION_CREDENTIALS_SERVICE_SERVICE_HOST': '10.100.12.67', 'DEEPNOTE_PROJECT_ID': '23421d57-1fd0-41ae-ba7e-62fc693f5e69', 'GPG_KEY': 'A035C8C19219BA821ECEA86B64E628F8D684696D', 'DEEPNOTE_RUNTIME_UUID': 'cd0ba85b-e1da-4c8c-8644-548556d2dc42', 'SF_PARTNER': 'Deepnote_Workspaces', 'DEEPNOTE_PROJECT_OWNER_ID': 'a91131d5-3a8f-4ab6-899b-8a84e0fa5269', 'PYTHONPATH': '/shared-libs/python3.10/py-core/lib/python3.10/site-packages::/usr/local/lib/python310.zip:/usr/local/lib/python3.10:/usr/local/lib/python3.10/lib-dynload:/root/venv/lib/python3.10/site-packages:/usr/local/lib/python3.10/site-packages:/shared-libs/python3.10/py/lib/python3.10/site-packages', 'SQL_DEEPNOTE_DATAFRAME_SQL': '{\"url\":\"deepnote+duckdb:///:memory:\",\"params\":{},\"param_style\":\"qmark\"}', 'SHLVL': '0', 'KUBERNETES_PORT_443_TCP_PROTO': 'tcp', 'JUPYTER_PATH': ':/shared-libs/python3.10/py-core/share/jupyter', 'PYTHON_PIP_VERSION': '22.0.4', 'VIRTUAL_ENV_PROMPT': '(venv) ', 'KUBERNETES_PORT_443_TCP_ADDR': '10.100.0.1', 'PYTHON_GET_PIP_SHA256': 'ba3ab8267d91fd41c58dbce08f76db99f747f716d85ce1865813842bb035524d', 'INTEGRATION_CREDENTIALS_SERVICE_PORT_80_TCP_PROTO': 'tcp', 'DEEPNOTE_CPU_COUNT': '1', 'PS1': '(venv) ', 'KUBERNETES_SERVICE_HOST': '10.100.0.1', 'LC_ALL': 'en_US.UTF-8', 'KUBERNETES_PORT': 'tcp://10.100.0.1:443', 'KUBERNETES_PORT_443_TCP_PORT': '443', 'PYTHON_GET_PIP_URL': 'https://github.com/pypa/get-pip/raw/6ce3639da143c5d79b44f94b04080abf2531fd6e/public/get-pip.py', 'INTEGRATION_CREDENTIALS_SERVICE_SERVICE_PORT_EXTERNAL': '80', 'DEEPNOTE_RUNTIME_ENV_INTEGRATION_ENABLED': 'true', 'PATH': '/shared-libs/python3.10/py-core/bin:/root/venv/bin:/usr/local/bin:/usr/local/sbin:/usr/local/bin:/usr/sbin:/usr/bin:/sbin:/bin:/shared-libs/python3.10/py/bin', 'DEBIAN_FRONTEND': 'noninteractive', '_': '/shared-libs/python3.10/py-core/bin/jupyter', 'JPY_PARENT_PID': '1', 'TERM': 'xterm-color', 'CLICOLOR': '1', 'PAGER': 'cat', 'GIT_PAGER': 'cat', 'MPLBACKEND': 'module://matplotlib_inline.backend_inline'})\n",
     "output_type": "stream"
    }
   ]
  },
  {
   "cell_type": "code",
   "metadata": {
    "cell_id": "0e06d6f4da264e4eb34954ebe9c7552a",
    "tags": [],
    "deepnote_to_be_reexecuted": false,
    "source_hash": "a55dfc1c",
    "execution_start": 1660358100616,
    "execution_millis": 1,
    "deepnote_cell_type": "code",
    "deepnote_cell_height": 130.1875,
    "deepnote_output_heights": [
     20.1875
    ]
   },
   "source": "p = X()\np.dict()",
   "execution_count": null,
   "outputs": [
    {
     "output_type": "execute_result",
     "execution_count": 44,
     "data": {
      "text/plain": "{'a': '/bin/bash'}"
     },
     "metadata": {}
    }
   ]
  },
  {
   "cell_type": "markdown",
   "source": "#### Set up `Shipment` class",
   "metadata": {
    "cell_id": "a175ff1cbf674f0aacca966661226f59",
    "tags": [],
    "deepnote_cell_type": "markdown",
    "deepnote_cell_height": 54.796875
   }
  },
  {
   "cell_type": "code",
   "metadata": {
    "cell_id": "0fd92c48ba284b6ab0d24b524ec0f9c9",
    "tags": [],
    "deepnote_to_be_reexecuted": false,
    "source_hash": "47c35c3e",
    "execution_start": 1660355805898,
    "execution_millis": 0,
    "deepnote_cell_type": "code",
    "deepnote_cell_height": 999
   },
   "source": "from datetime import date, datetime, time, timedelta\nclass Shipment(pydantic.BaseModel):\n    SO_num: str      # internal shipment order nmber\n    PO_num: str      # Product order number (tracking number generated by vendor)\n    customer: str    # customer name\n    carrier: str     # carrier (shipping vendor) name\n    destination: str # where the shipment is going\n    shipped_date: date # date the package was shipped\n    eta: Optional[date] = None # date the package is expected to arrive\n    delivered_date: Optional[date] = None\n    transit_time: Optional[int] = None\n    status: str = \"In-Transit\"\n    #'PRO# Wass', 'PRO#', 'Broker Quote', 'Invoice amount'\n    pro_num_wass: Optional[str] = None\n    pro_num: Optional[str] = None\n    broker_quote: Optional[float] = None\n    invoice_amt: Optional[float] = None\n\n    class Config:\n        anystr_strip_whitespace = True\n        extra = pydantic.Extra.allow\n\n    @pydantic.validator(\"PO_num\") # may refine this once I understand PO# formats required for each carrier\n    @classmethod\n    def valid_PO_num(cls, value):\n        chars = [c for c in value if c in \"0123456789ABCDEFGHIJKLMNOPQRSTUVWXYZ-\"]\n        invalid_chars = [i for i in value if i not in \"0123456789ABCDEFGHIJKLMNOPQRSTUVWXYZ-\"]\n        \n        if value in [None, \"Not Entered\", np.nan]:\n            raise MissingPOError(value=value, message=message)\n        \n        elif len(chars) not in [5, 6, 7, 8, 9, 10, 11, 12, 13, 14]:\n            raise InvalidPOError(value=value, message=\"PO number given is not valid\")        \n\n        return value \n\n    @pydantic.validator(\"carrier\") # may refine this once I understand PO# formats required for each carrier\n    @classmethod\n    def validate_carrier(cls, value):\n        valid_carriers = [carriers[i].carrier_name for i in range(len(carriers))]\n        msg = \"shipment carrier/vendor is not in the pre-approved list of carriers/vendors...please check spelling or add the new carrier with its tracking site url. Vendors/carreirs can be added with the add_new_carrier(name, url) function\"\n\n        v = value.replace(\" \",\"\").lower()\n        \n        if v not in valid_carriers:\n            raise InvalidCarrierError(value=value, message=msg)\n        \n        return value\n\n    \n    \n    #def calculate_transit_time(self, self.shipped_date,self.)",
   "execution_count": null,
   "outputs": []
  },
  {
   "cell_type": "markdown",
   "source": "#### Create custom error classes\n<hr>\nPO# error classes:",
   "metadata": {
    "cell_id": "918a1b78b6684def9359127e49f2d545",
    "tags": [],
    "deepnote_cell_type": "markdown",
    "deepnote_cell_height": 111.796875
   }
  },
  {
   "cell_type": "code",
   "metadata": {
    "cell_id": "c1500f405a2c484c8d28979d82e6dd3e",
    "tags": [],
    "deepnote_to_be_reexecuted": false,
    "source_hash": "b0574fff",
    "execution_start": 1660355810733,
    "execution_millis": 3,
    "deepnote_cell_type": "code",
    "deepnote_cell_height": 297
   },
   "source": "class InvalidPOError(Exception):\n    \"\"\"custom error that is raised whe PO# contains invalid characters or is not one of the pre-approved formats or lengths\"\"\"\n    def __init__(self,value:str, message:str) -> None:\n        self.value = value\n        self.message = message\n        super().__init__(message)\n\nclass MissingPOError(InvalidPOError):\n    def __init__(self,value:str, message:str) -> None:\n        self.value = value\n        self.message = \"PO# was not entered! Please go back and enter PO# for this shipment\"\n        super().__init__(message)\n",
   "execution_count": null,
   "outputs": []
  },
  {
   "cell_type": "markdown",
   "source": "Carrier error classes:",
   "metadata": {
    "cell_id": "c0bbd492788e402d83e82718466bd346",
    "tags": [],
    "deepnote_cell_type": "markdown",
    "deepnote_cell_height": 52.390625
   }
  },
  {
   "cell_type": "code",
   "metadata": {
    "cell_id": "9ac93016bbba47c887a5931dcb3b0e3b",
    "tags": [],
    "deepnote_to_be_reexecuted": false,
    "source_hash": "7f621bc3",
    "execution_start": 1660355823678,
    "execution_millis": 0,
    "deepnote_cell_type": "code",
    "deepnote_cell_height": 189
   },
   "source": "class InvalidCarrierError(Exception):\n    \"\"\"custom error raised when the shipment carrier/vendor is not in the pre-approved list\n        of carriers/vendors. Vendors/carreirs can be added with the add_new_carrier(name, url) function\"\"\"\n    def __init__(self,value:str, message:str) -> None:\n        self.value = value\n        self.message = message\n        super().__init__(message)",
   "execution_count": null,
   "outputs": []
  },
  {
   "cell_type": "markdown",
   "source": "test with a fake shipment",
   "metadata": {
    "formattedRanges": [],
    "is_collapsed": false,
    "cell_id": "0fc54260084c47fdb2a5135391bea39d",
    "tags": [],
    "deepnote_cell_type": "text-cell-p"
   }
  },
  {
   "cell_type": "code",
   "metadata": {
    "cell_id": "bba7de170c114b53a5f2092f5d661cf5",
    "tags": [],
    "deepnote_to_be_reexecuted": false,
    "source_hash": "2dd4b4d0",
    "execution_start": 1660355849288,
    "execution_millis": 1,
    "deepnote_cell_type": "code",
    "deepnote_cell_height": 220
   },
   "source": "s1 = Shipment(\n    SO_num = \"121334\",\n    PO_num = \"123456\",\n    customer = \"   Perkins Reyes \",\n    carrier = \"Bunzl   \",\n    destination = \"MN, 55433\",\n    shipped_date = '2022-01-09',\n    delivered_date = '2022-01-14'\n)",
   "execution_count": null,
   "outputs": []
  },
  {
   "cell_type": "code",
   "metadata": {
    "cell_id": "e563f00819ce4d39a7d1594b324eef71",
    "tags": [],
    "deepnote_to_be_reexecuted": false,
    "source_hash": "b83b5fc7",
    "execution_start": 1660355852974,
    "execution_millis": 1,
    "deepnote_cell_type": "code",
    "deepnote_cell_height": 361.78125,
    "deepnote_output_heights": [
     269.796875
    ]
   },
   "source": "s1.dict()",
   "execution_count": null,
   "outputs": [
    {
     "output_type": "execute_result",
     "execution_count": 15,
     "data": {
      "text/plain": "{'SO_num': '121334',\n 'PO_num': '123456',\n 'customer': 'Perkins Reyes',\n 'carrier': 'Bunzl',\n 'destination': 'MN, 55433',\n 'shipped_date': datetime.date(2022, 1, 9),\n 'eta': None,\n 'delivered_date': datetime.date(2022, 1, 14),\n 'transit_time': None,\n 'status': 'In-Transit',\n 'pro_num_wass': None,\n 'pro_num': None,\n 'broker_quote': None,\n 'invoice_amt': None}"
     },
     "metadata": {}
    }
   ]
  },
  {
   "cell_type": "markdown",
   "source": "Further clean up and format columns `shipments` dataframe to create global variables for each column that will be used as input/dataclass options later",
   "metadata": {
    "cell_id": "088562cfa8e345888c170cce22d8c978",
    "tags": [],
    "deepnote_cell_type": "markdown",
    "deepnote_cell_height": 74.796875
   }
  },
  {
   "cell_type": "markdown",
   "source": "## Dashboard (End User Interface)",
   "metadata": {
    "formattedRanges": [],
    "is_collapsed": false,
    "cell_id": "9c00bc2005b0422e95515c3739b08398",
    "tags": [],
    "deepnote_cell_type": "text-cell-h2"
   }
  },
  {
   "cell_type": "markdown",
   "source": "### Global Variables",
   "metadata": {
    "formattedRanges": [],
    "is_collapsed": false,
    "cell_id": "c7eb736a547b4dd19c34faea680b4464",
    "tags": [],
    "deepnote_cell_type": "text-cell-h3"
   }
  },
  {
   "cell_type": "code",
   "metadata": {
    "cell_id": "19636811fae2409baa19c578d08f4d8c",
    "tags": [],
    "deepnote_to_be_reexecuted": false,
    "source_hash": "980afb81",
    "execution_start": 1660356498806,
    "execution_millis": 1,
    "deepnote_cell_type": "code",
    "deepnote_cell_height": 296.1875
   },
   "source": "#carriers_from_data = list(set(shipments['Carrier']))\ncarriers_from_data = (shipments.Carrier\n                            .str.replace(\" \",\"\")\n                            .str.lower()\n                            .unique()\n                        )\nprint(carriers_from_data)\nprint(len(carriers_from_data))",
   "execution_count": null,
   "outputs": [
    {
     "name": "stdout",
     "text": "['conway' 'estes' 'reddaway' 'abf' 'roadrunner' 'r&l' 'glova-link' 'yrc'\n 'centralfreight' 'olddominion' 'upsfreight' 'saia' 'tforce' 'oakharbor'\n 'centraltransport' 'bestyet' 'hercules' 'frontline' 'dhe' 'xpo']\n20\n",
     "output_type": "stream"
    }
   ]
  },
  {
   "cell_type": "code",
   "metadata": {
    "cell_id": "f0664ac5497a4798a144c613151b166f",
    "tags": [],
    "deepnote_to_be_reexecuted": false,
    "source_hash": "ba7bd35e",
    "execution_start": 1660356800129,
    "execution_millis": 13,
    "deepnote_cell_type": "code",
    "deepnote_cell_height": 299
   },
   "source": "customers_from_data = (shipments.Customer\n                            .str.replace(\" \",\"\")\n                            .str.lower()\n                            .unique()\n                        )\nprint(customers_from_data)\nprint(len(customers_from_data))",
   "execution_count": null,
   "outputs": [
    {
     "name": "stdout",
     "text": "['bunzl' 'gmri' 'wasswerstrom' 'notentered' 'cdc' 'imperialdade'\n 'wasserstrom' 'ross' 'buccaneer' 'kinexo-mclane' 'lineage-fortworth'\n 'spiritmart' 'mallory' 'eddon' 'magidglove' 'imperialdale' 'trimark'\n 'lineage-wilmington' 'lineage' 'dotit']\n20\n",
     "output_type": "stream"
    }
   ]
  },
  {
   "cell_type": "markdown",
   "source": "### Set up Interface Elements",
   "metadata": {
    "formattedRanges": [],
    "is_collapsed": false,
    "cell_id": "5b959beea2d14465af1f6b17a2594b06",
    "tags": [],
    "deepnote_cell_type": "text-cell-h3"
   }
  },
  {
   "cell_type": "code",
   "metadata": {
    "cell_id": "a1734e73a26745e7a5591645c37e8021",
    "deepnote_variable_name": "po_input",
    "deepnote_variable_value": "",
    "deepnote_to_be_reexecuted": true,
    "source_hash": "7617e369",
    "execution_start": 1659817739267,
    "execution_millis": 1,
    "deepnote_cell_type": "input-text"
   },
   "source": "po_input = ''",
   "execution_count": null,
   "outputs": []
  },
  {
   "cell_type": "code",
   "metadata": {
    "cell_id": "ba2204cbe306432abc99b27ba82cf3b1",
    "deepnote_variable_name": "customer_select",
    "deepnote_variable_value": "bunzl",
    "deepnote_variable_options": [
     "bunzl",
     "gmri",
     "wasswerstrom",
     "notentered",
     "cdc",
     "imperialdade",
     "wasserstrom",
     "ross",
     "buccaneer",
     "kinexo-mclane",
     "lineage-fortworth",
     "spiritmart",
     "mallory",
     "eddon",
     "magidglove",
     "imperialdale",
     "trimark",
     "lineage-wilmington",
     "lineage",
     "dotit"
    ],
    "deepnote_variable_custom_options": [
     "Option 1",
     "Option 2"
    ],
    "deepnote_variable_selected_variable": "customers_from_data",
    "deepnote_variable_select_type": "from-variable",
    "deepnote_to_be_reexecuted": true,
    "source_hash": "7192c494",
    "execution_start": 1659817811182,
    "execution_millis": 0,
    "deepnote_cell_type": "input-select"
   },
   "source": "customer_select = 'bunzl'",
   "execution_count": null,
   "outputs": []
  },
  {
   "cell_type": "code",
   "metadata": {
    "cell_id": "bd0a250ef05e4c73ad6315548fd3ef81",
    "deepnote_variable_name": "carrier_select",
    "deepnote_variable_value": "carrier_name='Bunzl' tracking_url=AnyHttpUrl('https://www.xyz.com', scheme='https', host='www.xyz.com', tld='com', host_type='domain')",
    "deepnote_variable_options": [
     "carrier_name='Bunzl' tracking_url=AnyHttpUrl('https://www.xyz.com', scheme='https', host='www.xyz.com', tld='com', host_type='domain')",
     "carrier_name='Road Runner' tracking_url=AnyHttpUrl('https://www.xyz.com', scheme='https', host='www.xyz.com', tld='com', host_type='domain')"
    ],
    "deepnote_variable_custom_options": [],
    "deepnote_variable_selected_variable": "carriers",
    "deepnote_variable_select_type": "from-variable",
    "deepnote_to_be_reexecuted": true,
    "source_hash": "9aa0d842",
    "execution_start": 1659817818836,
    "execution_millis": 1,
    "deepnote_cell_type": "input-select"
   },
   "source": "carrier_select = 'carrier_name=\\'Bunzl\\' tracking_url=AnyHttpUrl(\\'https://www.xyz.com\\', scheme=\\'https\\', host=\\'www.xyz.com\\', tld=\\'com\\', host_type=\\'domain\\')'",
   "execution_count": null,
   "outputs": []
  },
  {
   "cell_type": "code",
   "metadata": {
    "cell_id": "1b6a3749e5784503afc71ca1d7e42e6c",
    "deepnote_variable_name": "eta_input",
    "deepnote_variable_value": "2022-08-06T07:00:00.000Z",
    "deepnote_to_be_reexecuted": true,
    "source_hash": "3ed73673",
    "execution_start": 1659817723750,
    "execution_millis": 0,
    "deepnote_cell_type": "input-date"
   },
   "source": "\nfrom datetime import datetime as _deepnote_datetime\neta_input = _deepnote_datetime.strptime('2022-08-06T07:00:00.000Z', \"%Y-%m-%dT%H:%M:%S.%fZ\")\n",
   "execution_count": null,
   "outputs": []
  },
  {
   "cell_type": "code",
   "metadata": {
    "cell_id": "1d2ca8cd13954b57ae77a4d79d1d4e1b",
    "deepnote_variable_name": "add_valid_carrier",
    "deepnote_variable_value": "USPS",
    "deepnote_to_be_reexecuted": true,
    "source_hash": "b7824620",
    "execution_start": 1659922978093,
    "execution_millis": 6,
    "deepnote_cell_type": "input-text"
   },
   "source": "add_valid_carrier = 'USPS'",
   "execution_count": null,
   "outputs": []
  },
  {
   "cell_type": "code",
   "metadata": {
    "cell_id": "1b4cabe83e00446ca4ad32edd95f81a9",
    "deepnote_variable_name": "new_carrier_url",
    "deepnote_variable_value": "",
    "deepnote_to_be_reexecuted": true,
    "source_hash": "df3ab3ef",
    "execution_start": 1659970057930,
    "execution_millis": 44,
    "deepnote_cell_type": "input-text"
   },
   "source": "new_carrier_url = ''",
   "execution_count": null,
   "outputs": []
  },
  {
   "cell_type": "code",
   "metadata": {
    "cell_id": "dd7141282e2246e890d244cbae61e529",
    "tags": [],
    "deepnote_to_be_reexecuted": true,
    "source_hash": "ec74f876",
    "execution_start": 1659922984841,
    "execution_millis": 8,
    "deepnote_cell_type": "code",
    "deepnote_cell_height": 130.59375
   },
   "source": "carriers.append(add_valid_carrier)\nprint(carriers)",
   "execution_count": null,
   "outputs": [
    {
     "name": "stdout",
     "text": "['Road Runner ', 'Roadrunner ', 'Central Transport', 'Conway ', 'T Force', 'Frontline', 'ABF', 'DHE', 'Saia', 'Roadrunner', 'Best Yet', 'XPO', 'SAIA', 'YRC', 'Ups Freight ', 'ESTES', 'Oak Harbor ', 'Conway', 'Reddaway', 'Estes', 'Tforce', 'Old Dominion', 'Hercules', 'R&L', 'Glova - Link', 'R&L ', 'Central Freight', 'USPS']\n",
     "output_type": "stream"
    }
   ]
  },
  {
   "cell_type": "markdown",
   "source": "<a style='text-decoration:none;line-height:16px;display:flex;color:#5B5B62;padding:10px;justify-content:end;' href='https://deepnote.com?utm_source=created-in-deepnote-cell&projectId=23421d57-1fd0-41ae-ba7e-62fc693f5e69' target=\"_blank\">\n<img alt='Created in deepnote.com' style='display:inline;max-height:16px;margin:0px;margin-right:7.5px;' src='data:image/svg+xml;base64,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' > </img>\nCreated in <span style='font-weight:600;margin-left:4px;'>Deepnote</span></a>",
   "metadata": {
    "tags": [],
    "created_in_deepnote_cell": true,
    "deepnote_cell_type": "markdown"
   }
  }
 ],
 "nbformat": 4,
 "nbformat_minor": 2,
 "metadata": {
  "orig_nbformat": 2,
  "deepnote": {
   "is_reactive": false
  },
  "deepnote_notebook_id": "36cd2e1f-1a22-4b52-9753-db8aa7e0c99a",
  "deepnote_app_layout": "article",
  "deepnote_execution_queue": []
 }
}